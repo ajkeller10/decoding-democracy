{
 "cells": [
  {
   "cell_type": "code",
   "execution_count": 9,
   "metadata": {},
   "outputs": [],
   "source": [
    "from unsupervised_topic_segmentation import core, eval, types, dataset\n",
    "import create_test_data\n",
    "import pandas as pd\n",
    "import numpy as np\n",
    "import matplotlib.pyplot as plt\n",
    "import pickle"
   ]
  },
  {
   "cell_type": "code",
   "execution_count": 10,
   "metadata": {},
   "outputs": [],
   "source": [
    "# read transcripts.pickle\n",
    "with open('transcripts.pickle', 'rb') as handle:\n",
    "    transcripts = pickle.load(handle)"
   ]
  },
  {
   "attachments": {},
   "cell_type": "markdown",
   "metadata": {},
   "source": [
    "Options:\n",
    "- datasets: `types.TopicSegmentationDatasets.AMI`, `types.TopicSegmentationDatasets.ICSI` _(need to download and implement in unsupervised_topic_segmentation/dataset.py)_\n",
    "- algorithms: `types.BERTSegmentation`, `types.RandomSegmentation`, `types.TopicSegmentationAlgorithm.EvenSegmentation` _(SBERT not implemented)_"
   ]
  },
  {
   "attachments": {},
   "cell_type": "markdown",
   "metadata": {},
   "source": [
    "Hyperparams to consider for `BERTSegmentation`:\n",
    "- `PARALLEL_INFERENCE_INSTANCES = 20` in `core.py`: infer multiple meetings at once\n",
    "- `MAX_SEGMENTS_CAP`: True or False, default True. \"Add a max segment limit so there are not too many segments\"; in this implementation, \"local maxima are sorted by depth_score value and we take only the first K where the K+1th local maxima is lower then the threshold\". False \"is the vanilla TextTiling used for Pk optimization\". \n",
    "- `MAX_SEGMENTS_CAP__AVERAGE_SEGMENT_LENGTH`: used as cap if above is True, int default 60. This was originally supposed to be in seconds (see explanation below) but we can easily make it refer to words or sentences.\n",
    "- `TEXT_TILING`: additional tiling hyperparams. Set to `types.TextTilingHyperparameters` with below additional hyperparams, otherwise defaults to None (which throws error).\n",
    "\n",
    "Additional hyperparams in `TextTilingHyperparameters`:\n",
    "- `SENTENCE_COMPARISON_WINDOW`: int default 15. Number of sentences in each non-overlapping window to consider as chunk.\n",
    "- `SMOOTHING_PASSES` int default 2. Number of smoothing iterations on similarity scores.\n",
    "- `SMOOTHING_WINDOW`: int default 1. Neighborhood considered in smoothing similarity scores (unit is chunks).\n",
    "- `TOPIC_CHANGE_THRESHOLD`: float default 0.6.\n",
    "\n",
    "Hyperparams for `RandomSegmentation`:\n",
    "- `random_threshold`\n",
    "\n",
    "Hyperparams for `EvenSegmentation`:\n",
    "- `k`: Number of sentences per segment"
   ]
  },
  {
   "attachments": {},
   "cell_type": "markdown",
   "metadata": {},
   "source": [
    "Note: the meeting duration is used in the original code in the following way, when `MAX_SEGMENTS_CAP` is True: The total meeting duration for each meeting is divided by `MAX_SEGMENTS_CAP_AVERAGE_SEGMENT_LENGTH` to determine the number of max segments."
   ]
  },
  {
   "cell_type": "code",
   "execution_count": 11,
   "metadata": {},
   "outputs": [
    {
     "data": {
      "text/plain": [
       "BERTSegmentation(SENTENCE_COMPARISON_WINDOW=50, TEXT_TILING=NewSegmentation(STDEVS=1))"
      ]
     },
     "execution_count": 11,
     "metadata": {},
     "output_type": "execute_result"
    }
   ],
   "source": [
    "old_algorithm = types.BERTSegmentation(\n",
    "    sentence_comparison_window=50,\n",
    "    text_tiling=types.OriginalSegmentation(\n",
    "        smoothing_passes=2,\n",
    "        smoothing_window=1,\n",
    "        topic_change_threshold=0.6,\n",
    "        max_segments_cap=True,\n",
    "        max_segments_cap__average_segment_length=120))\n",
    "new_algorithm = types.BERTSegmentation(\n",
    "    sentence_comparison_window=50,\n",
    "    text_tiling=types.NewSegmentation(\n",
    "        stdevs=1))\n",
    "\n",
    "new_algorithm"
   ]
  },
  {
   "attachments": {},
   "cell_type": "markdown",
   "metadata": {},
   "source": [
    "Just to run inference (no eval), use `core.topic_segmentation` with arguments:\n",
    "- `topic_segmentation_algorithm`: choose from above\n",
    "- `df`: transcript pandas dataframe with columns below\n",
    "- `meeting_id_col_name`: str for col of meetings to produce splits within\n",
    "- `start_col_name`: str for col with start time of caption (barely used, could cut)\n",
    "- `end_col_name`: str for col with end time of caption (barely used, could cut)\n",
    "- `caption_col_name`: str for col of sentence strings"
   ]
  },
  {
   "cell_type": "code",
   "execution_count": 12,
   "metadata": {},
   "outputs": [
    {
     "data": {
      "text/html": [
       "<div>\n",
       "<style scoped>\n",
       "    .dataframe tbody tr th:only-of-type {\n",
       "        vertical-align: middle;\n",
       "    }\n",
       "\n",
       "    .dataframe tbody tr th {\n",
       "        vertical-align: top;\n",
       "    }\n",
       "\n",
       "    .dataframe thead th {\n",
       "        text-align: right;\n",
       "    }\n",
       "</style>\n",
       "<table border=\"1\" class=\"dataframe\">\n",
       "  <thead>\n",
       "    <tr style=\"text-align: right;\">\n",
       "      <th></th>\n",
       "      <th>index</th>\n",
       "      <th>meeting_id</th>\n",
       "      <th>start_time</th>\n",
       "      <th>end_time</th>\n",
       "      <th>caption</th>\n",
       "    </tr>\n",
       "  </thead>\n",
       "  <tbody>\n",
       "    <tr>\n",
       "      <th>0</th>\n",
       "      <td>0</td>\n",
       "      <td>d0a7e5864959</td>\n",
       "      <td>0</td>\n",
       "      <td>5</td>\n",
       "      <td>And older woman Jocasta Zamarripa</td>\n",
       "    </tr>\n",
       "    <tr>\n",
       "      <th>1</th>\n",
       "      <td>1</td>\n",
       "      <td>d0a7e5864959</td>\n",
       "      <td>5</td>\n",
       "      <td>15</td>\n",
       "      <td>Shortly, Alderman Rainey and Alderman Hamilton...</td>\n",
       "    </tr>\n",
       "    <tr>\n",
       "      <th>2</th>\n",
       "      <td>2</td>\n",
       "      <td>d0a7e5864959</td>\n",
       "      <td>15</td>\n",
       "      <td>19</td>\n",
       "      <td>So let's get started</td>\n",
       "    </tr>\n",
       "    <tr>\n",
       "      <th>3</th>\n",
       "      <td>3</td>\n",
       "      <td>d0a7e5864959</td>\n",
       "      <td>19</td>\n",
       "      <td>36</td>\n",
       "      <td>Item nber 211814, reappointment of Brian Rott ...</td>\n",
       "    </tr>\n",
       "    <tr>\n",
       "      <th>4</th>\n",
       "      <td>4</td>\n",
       "      <td>d0a7e5864959</td>\n",
       "      <td>36</td>\n",
       "      <td>42</td>\n",
       "      <td>Brian Rott, I see you</td>\n",
       "    </tr>\n",
       "    <tr>\n",
       "      <th>...</th>\n",
       "      <td>...</td>\n",
       "      <td>...</td>\n",
       "      <td>...</td>\n",
       "      <td>...</td>\n",
       "      <td>...</td>\n",
       "    </tr>\n",
       "    <tr>\n",
       "      <th>483</th>\n",
       "      <td>454</td>\n",
       "      <td>d0a7e5864959</td>\n",
       "      <td>4342</td>\n",
       "      <td>4349</td>\n",
       "      <td>And that concludes our committee meeting today</td>\n",
       "    </tr>\n",
       "    <tr>\n",
       "      <th>484</th>\n",
       "      <td>455</td>\n",
       "      <td>d0a7e5864959</td>\n",
       "      <td>4349</td>\n",
       "      <td>4351</td>\n",
       "      <td>Thank you</td>\n",
       "    </tr>\n",
       "    <tr>\n",
       "      <th>485</th>\n",
       "      <td>456</td>\n",
       "      <td>d0a7e5864959</td>\n",
       "      <td>4351</td>\n",
       "      <td>4357</td>\n",
       "      <td>See you all in the community</td>\n",
       "    </tr>\n",
       "    <tr>\n",
       "      <th>486</th>\n",
       "      <td>457</td>\n",
       "      <td>d0a7e5864959</td>\n",
       "      <td>4357</td>\n",
       "      <td>4360</td>\n",
       "      <td>Thanks to additionally</td>\n",
       "    </tr>\n",
       "    <tr>\n",
       "      <th>487</th>\n",
       "      <td>458</td>\n",
       "      <td>d0a7e5864959</td>\n",
       "      <td>4360</td>\n",
       "      <td>4362</td>\n",
       "      <td>Thank you</td>\n",
       "    </tr>\n",
       "  </tbody>\n",
       "</table>\n",
       "<p>488 rows × 5 columns</p>\n",
       "</div>"
      ],
      "text/plain": [
       "     index    meeting_id  start_time  end_time  \\\n",
       "0        0  d0a7e5864959           0         5   \n",
       "1        1  d0a7e5864959           5        15   \n",
       "2        2  d0a7e5864959          15        19   \n",
       "3        3  d0a7e5864959          19        36   \n",
       "4        4  d0a7e5864959          36        42   \n",
       "..     ...           ...         ...       ...   \n",
       "483    454  d0a7e5864959        4342      4349   \n",
       "484    455  d0a7e5864959        4349      4351   \n",
       "485    456  d0a7e5864959        4351      4357   \n",
       "486    457  d0a7e5864959        4357      4360   \n",
       "487    458  d0a7e5864959        4360      4362   \n",
       "\n",
       "                                               caption  \n",
       "0                    And older woman Jocasta Zamarripa  \n",
       "1    Shortly, Alderman Rainey and Alderman Hamilton...  \n",
       "2                                 So let's get started  \n",
       "3    Item nber 211814, reappointment of Brian Rott ...  \n",
       "4                                Brian Rott, I see you  \n",
       "..                                                 ...  \n",
       "483     And that concludes our committee meeting today  \n",
       "484                                          Thank you  \n",
       "485                       See you all in the community  \n",
       "486                             Thanks to additionally  \n",
       "487                                          Thank you  \n",
       "\n",
       "[488 rows x 5 columns]"
      ]
     },
     "execution_count": 12,
     "metadata": {},
     "output_type": "execute_result"
    }
   ],
   "source": [
    "test_data = pd.DataFrame(data={'meeting_id':'d0a7e5864959','caption':transcripts['d0a7e5864959']})\n",
    "test_data = dataset.add_durations(test_data)  # \"duration\" column is just number of words\n",
    "test_data = dataset.preprocessing(test_data,min_caption_len=5)  # note that this adds (old) `index` column, but topic_segmentation uses actual index\n",
    "test_data"
   ]
  },
  {
   "cell_type": "code",
   "execution_count": 13,
   "metadata": {},
   "outputs": [
    {
     "name": "stdout",
     "output_type": "stream",
     "text": [
      "[112, 158, 175, 226, 348, 405, 415]\n"
     ]
    },
    {
     "data": {
      "text/plain": [
       "{'d0a7e5864959': [112, 158, 175, 226, 348, 405, 415]}"
      ]
     },
     "execution_count": 13,
     "metadata": {},
     "output_type": "execute_result"
    }
   ],
   "source": [
    "core.topic_segmentation(\n",
    "    topic_segmentation_algorithm=new_algorithm,\n",
    "    df=test_data,\n",
    "    meeting_id_col_name='meeting_id',\n",
    "    start_col_name='start_time',\n",
    "    end_col_name='end_time',\n",
    "    caption_col_name='caption')"
   ]
  },
  {
   "cell_type": "code",
   "execution_count": 14,
   "metadata": {},
   "outputs": [
    {
     "data": {
      "text/html": [
       "<div>\n",
       "<style scoped>\n",
       "    .dataframe tbody tr th:only-of-type {\n",
       "        vertical-align: middle;\n",
       "    }\n",
       "\n",
       "    .dataframe tbody tr th {\n",
       "        vertical-align: top;\n",
       "    }\n",
       "\n",
       "    .dataframe thead th {\n",
       "        text-align: right;\n",
       "    }\n",
       "</style>\n",
       "<table border=\"1\" class=\"dataframe\">\n",
       "  <thead>\n",
       "    <tr style=\"text-align: right;\">\n",
       "      <th></th>\n",
       "      <th>index</th>\n",
       "      <th>meeting_id</th>\n",
       "      <th>start_time</th>\n",
       "      <th>end_time</th>\n",
       "      <th>caption</th>\n",
       "    </tr>\n",
       "  </thead>\n",
       "  <tbody>\n",
       "    <tr>\n",
       "      <th>102</th>\n",
       "      <td>103</td>\n",
       "      <td>d0a7e5864959</td>\n",
       "      <td>988</td>\n",
       "      <td>997</td>\n",
       "      <td>So we will do our grand opening in September</td>\n",
       "    </tr>\n",
       "    <tr>\n",
       "      <th>103</th>\n",
       "      <td>104</td>\n",
       "      <td>d0a7e5864959</td>\n",
       "      <td>997</td>\n",
       "      <td>1016</td>\n",
       "      <td>And I can let  when that actual date will be o...</td>\n",
       "    </tr>\n",
       "    <tr>\n",
       "      <th>104</th>\n",
       "      <td>105</td>\n",
       "      <td>d0a7e5864959</td>\n",
       "      <td>1016</td>\n",
       "      <td>1018</td>\n",
       "      <td>Excellent, excellent</td>\n",
       "    </tr>\n",
       "    <tr>\n",
       "      <th>105</th>\n",
       "      <td>106</td>\n",
       "      <td>d0a7e5864959</td>\n",
       "      <td>1018</td>\n",
       "      <td>1034</td>\n",
       "      <td>Do me a favor and send an invitation to the co...</td>\n",
       "    </tr>\n",
       "    <tr>\n",
       "      <th>106</th>\n",
       "      <td>107</td>\n",
       "      <td>d0a7e5864959</td>\n",
       "      <td>1034</td>\n",
       "      <td>1038</td>\n",
       "      <td>We'll definitely do that</td>\n",
       "    </tr>\n",
       "    <tr>\n",
       "      <th>107</th>\n",
       "      <td>108</td>\n",
       "      <td>d0a7e5864959</td>\n",
       "      <td>1038</td>\n",
       "      <td>1044</td>\n",
       "      <td>All right, anybody have any questions?</td>\n",
       "    </tr>\n",
       "    <tr>\n",
       "      <th>108</th>\n",
       "      <td>109</td>\n",
       "      <td>d0a7e5864959</td>\n",
       "      <td>1044</td>\n",
       "      <td>1051</td>\n",
       "      <td>Any of my colleagues have any questions?</td>\n",
       "    </tr>\n",
       "    <tr>\n",
       "      <th>109</th>\n",
       "      <td>110</td>\n",
       "      <td>d0a7e5864959</td>\n",
       "      <td>1051</td>\n",
       "      <td>1058</td>\n",
       "      <td>We have been joined by Alderman Hamilton</td>\n",
       "    </tr>\n",
       "    <tr>\n",
       "      <th>110</th>\n",
       "      <td>111</td>\n",
       "      <td>d0a7e5864959</td>\n",
       "      <td>1058</td>\n",
       "      <td>1064</td>\n",
       "      <td>Good to see you, Alderman Hamilton</td>\n",
       "    </tr>\n",
       "    <tr>\n",
       "      <th>111</th>\n",
       "      <td>112</td>\n",
       "      <td>d0a7e5864959</td>\n",
       "      <td>1064</td>\n",
       "      <td>1070</td>\n",
       "      <td>And I'll move approval, Mr</td>\n",
       "    </tr>\n",
       "    <tr>\n",
       "      <th>112</th>\n",
       "      <td>112</td>\n",
       "      <td>d0a7e5864959</td>\n",
       "      <td>1064</td>\n",
       "      <td>1070</td>\n",
       "      <td>Chair</td>\n",
       "    </tr>\n",
       "    <tr>\n",
       "      <th>113</th>\n",
       "      <td>113</td>\n",
       "      <td>d0a7e5864959</td>\n",
       "      <td>1070</td>\n",
       "      <td>1076</td>\n",
       "      <td>Thank you, Alderman Hamilton moves approval</td>\n",
       "    </tr>\n",
       "    <tr>\n",
       "      <th>114</th>\n",
       "      <td>114</td>\n",
       "      <td>d0a7e5864959</td>\n",
       "      <td>1076</td>\n",
       "      <td>1085</td>\n",
       "      <td>Hearing no objections or order, thank you so much</td>\n",
       "    </tr>\n",
       "    <tr>\n",
       "      <th>115</th>\n",
       "      <td>115</td>\n",
       "      <td>d0a7e5864959</td>\n",
       "      <td>1085</td>\n",
       "      <td>1091</td>\n",
       "      <td>And welcome to the bid, Chris</td>\n",
       "    </tr>\n",
       "    <tr>\n",
       "      <th>116</th>\n",
       "      <td>116</td>\n",
       "      <td>d0a7e5864959</td>\n",
       "      <td>1091</td>\n",
       "      <td>1096</td>\n",
       "      <td>Thank you guys very much</td>\n",
       "    </tr>\n",
       "    <tr>\n",
       "      <th>117</th>\n",
       "      <td>117</td>\n",
       "      <td>d0a7e5864959</td>\n",
       "      <td>1096</td>\n",
       "      <td>1105</td>\n",
       "      <td>And thanks for all you do for our city</td>\n",
       "    </tr>\n",
       "    <tr>\n",
       "      <th>118</th>\n",
       "      <td>118</td>\n",
       "      <td>d0a7e5864959</td>\n",
       "      <td>1105</td>\n",
       "      <td>1107</td>\n",
       "      <td>Yes, sir</td>\n",
       "    </tr>\n",
       "    <tr>\n",
       "      <th>119</th>\n",
       "      <td>119</td>\n",
       "      <td>d0a7e5864959</td>\n",
       "      <td>1107</td>\n",
       "      <td>1119</td>\n",
       "      <td>Next, we have item 22055 appointment of 220055...</td>\n",
       "    </tr>\n",
       "    <tr>\n",
       "      <th>120</th>\n",
       "      <td>120</td>\n",
       "      <td>d0a7e5864959</td>\n",
       "      <td>1119</td>\n",
       "      <td>1124</td>\n",
       "      <td>Did I pronounce that correctly?</td>\n",
       "    </tr>\n",
       "    <tr>\n",
       "      <th>121</th>\n",
       "      <td>121</td>\n",
       "      <td>d0a7e5864959</td>\n",
       "      <td>1124</td>\n",
       "      <td>1131</td>\n",
       "      <td>That is correct, hi, how are you?</td>\n",
       "    </tr>\n",
       "  </tbody>\n",
       "</table>\n",
       "</div>"
      ],
      "text/plain": [
       "     index    meeting_id  start_time  end_time  \\\n",
       "102    103  d0a7e5864959         988       997   \n",
       "103    104  d0a7e5864959         997      1016   \n",
       "104    105  d0a7e5864959        1016      1018   \n",
       "105    106  d0a7e5864959        1018      1034   \n",
       "106    107  d0a7e5864959        1034      1038   \n",
       "107    108  d0a7e5864959        1038      1044   \n",
       "108    109  d0a7e5864959        1044      1051   \n",
       "109    110  d0a7e5864959        1051      1058   \n",
       "110    111  d0a7e5864959        1058      1064   \n",
       "111    112  d0a7e5864959        1064      1070   \n",
       "112    112  d0a7e5864959        1064      1070   \n",
       "113    113  d0a7e5864959        1070      1076   \n",
       "114    114  d0a7e5864959        1076      1085   \n",
       "115    115  d0a7e5864959        1085      1091   \n",
       "116    116  d0a7e5864959        1091      1096   \n",
       "117    117  d0a7e5864959        1096      1105   \n",
       "118    118  d0a7e5864959        1105      1107   \n",
       "119    119  d0a7e5864959        1107      1119   \n",
       "120    120  d0a7e5864959        1119      1124   \n",
       "121    121  d0a7e5864959        1124      1131   \n",
       "\n",
       "                                               caption  \n",
       "102       So we will do our grand opening in September  \n",
       "103  And I can let  when that actual date will be o...  \n",
       "104                               Excellent, excellent  \n",
       "105  Do me a favor and send an invitation to the co...  \n",
       "106                           We'll definitely do that  \n",
       "107             All right, anybody have any questions?  \n",
       "108           Any of my colleagues have any questions?  \n",
       "109           We have been joined by Alderman Hamilton  \n",
       "110                 Good to see you, Alderman Hamilton  \n",
       "111                         And I'll move approval, Mr  \n",
       "112                                              Chair  \n",
       "113        Thank you, Alderman Hamilton moves approval  \n",
       "114  Hearing no objections or order, thank you so much  \n",
       "115                      And welcome to the bid, Chris  \n",
       "116                           Thank you guys very much  \n",
       "117             And thanks for all you do for our city  \n",
       "118                                           Yes, sir  \n",
       "119  Next, we have item 22055 appointment of 220055...  \n",
       "120                    Did I pronounce that correctly?  \n",
       "121                  That is correct, hi, how are you?  "
      ]
     },
     "execution_count": 14,
     "metadata": {},
     "output_type": "execute_result"
    }
   ],
   "source": [
    "i = 112\n",
    "test_data.iloc[(i-10):(i+10)]"
   ]
  },
  {
   "cell_type": "code",
   "execution_count": 15,
   "metadata": {},
   "outputs": [
    {
     "ename": "TypeError",
     "evalue": "generate_segment() missing 1 required positional argument: 't'",
     "output_type": "error",
     "traceback": [
      "\u001b[0;31m---------------------------------------------------------------------------\u001b[0m",
      "\u001b[0;31mTypeError\u001b[0m                                 Traceback (most recent call last)",
      "Cell \u001b[0;32mIn[15], line 1\u001b[0m\n\u001b[0;32m----> 1\u001b[0m results, labels, doc_count \u001b[39m=\u001b[39m create_test_data\u001b[39m.\u001b[39;49mgenerate_segment()\n\u001b[1;32m      2\u001b[0m test_data \u001b[39m=\u001b[39m pd\u001b[39m.\u001b[39mDataFrame(data\u001b[39m=\u001b[39m{\u001b[39m'\u001b[39m\u001b[39mcaption\u001b[39m\u001b[39m'\u001b[39m:results,\u001b[39m'\u001b[39m\u001b[39mlabel\u001b[39m\u001b[39m'\u001b[39m:labels,\u001b[39m'\u001b[39m\u001b[39mmeeting_id\u001b[39m\u001b[39m'\u001b[39m:\u001b[39m1\u001b[39m})\n\u001b[1;32m      3\u001b[0m test_data[\u001b[39m'\u001b[39m\u001b[39mduration\u001b[39m\u001b[39m'\u001b[39m] \u001b[39m=\u001b[39m test_data\u001b[39m.\u001b[39mcaption\u001b[39m.\u001b[39mapply(\u001b[39mlambda\u001b[39;00m x: \u001b[39mlen\u001b[39m(x\u001b[39m.\u001b[39msplit(\u001b[39m'\u001b[39m\u001b[39m \u001b[39m\u001b[39m'\u001b[39m)))  \u001b[39m# 1 word/s\u001b[39;00m\n",
      "\u001b[0;31mTypeError\u001b[0m: generate_segment() missing 1 required positional argument: 't'"
     ]
    }
   ],
   "source": [
    "results, labels, doc_count = create_test_data.generate_segment()\n",
    "test_data = pd.DataFrame(data={'sentences':results,'label':labels,'meeting_id':1})\n",
    "test_data['duration'] = test_data.caption.apply(lambda x: len(x.split(' ')))  # 1 word/s\n",
    "test_data['end_time'] = test_data.duration.cumsum()\n",
    "test_data['start_time'] = test_data.duration.cumsum() - test_data.duration\n",
    "test_data = test_data[['meeting_id','start_time','end_time','caption','label']]\n",
    "test_data = dataset.preprocessing(test_data, 'caption')  # note that this adds (old) `index` column, but topic_segmentation uses actual index\n",
    "test_data"
   ]
  },
  {
   "cell_type": "code",
   "execution_count": 16,
   "metadata": {},
   "outputs": [
    {
     "name": "stdout",
     "output_type": "stream",
     "text": [
      "[112, 158, 175, 226, 348, 405, 415]\n"
     ]
    },
    {
     "ename": "KeyError",
     "evalue": "'label'",
     "output_type": "error",
     "traceback": [
      "\u001b[0;31m---------------------------------------------------------------------------\u001b[0m",
      "\u001b[0;31mKeyError\u001b[0m                                  Traceback (most recent call last)",
      "File \u001b[0;32m~/.local/lib/python3.10/site-packages/pandas/core/indexes/base.py:3802\u001b[0m, in \u001b[0;36mIndex.get_loc\u001b[0;34m(self, key, method, tolerance)\u001b[0m\n\u001b[1;32m   3801\u001b[0m \u001b[39mtry\u001b[39;00m:\n\u001b[0;32m-> 3802\u001b[0m     \u001b[39mreturn\u001b[39;00m \u001b[39mself\u001b[39;49m\u001b[39m.\u001b[39;49m_engine\u001b[39m.\u001b[39;49mget_loc(casted_key)\n\u001b[1;32m   3803\u001b[0m \u001b[39mexcept\u001b[39;00m \u001b[39mKeyError\u001b[39;00m \u001b[39mas\u001b[39;00m err:\n",
      "File \u001b[0;32m~/.local/lib/python3.10/site-packages/pandas/_libs/index.pyx:138\u001b[0m, in \u001b[0;36mpandas._libs.index.IndexEngine.get_loc\u001b[0;34m()\u001b[0m\n",
      "File \u001b[0;32m~/.local/lib/python3.10/site-packages/pandas/_libs/index.pyx:165\u001b[0m, in \u001b[0;36mpandas._libs.index.IndexEngine.get_loc\u001b[0;34m()\u001b[0m\n",
      "File \u001b[0;32mpandas/_libs/hashtable_class_helper.pxi:5745\u001b[0m, in \u001b[0;36mpandas._libs.hashtable.PyObjectHashTable.get_item\u001b[0;34m()\u001b[0m\n",
      "File \u001b[0;32mpandas/_libs/hashtable_class_helper.pxi:5753\u001b[0m, in \u001b[0;36mpandas._libs.hashtable.PyObjectHashTable.get_item\u001b[0;34m()\u001b[0m\n",
      "\u001b[0;31mKeyError\u001b[0m: 'label'",
      "\nThe above exception was the direct cause of the following exception:\n",
      "\u001b[0;31mKeyError\u001b[0m                                  Traceback (most recent call last)",
      "Cell \u001b[0;32mIn[16], line 1\u001b[0m\n\u001b[0;32m----> 1\u001b[0m \u001b[39meval\u001b[39;49m\u001b[39m.\u001b[39;49meval_topic_segmentation(\n\u001b[1;32m      2\u001b[0m     topic_segmentation_algorithm\u001b[39m=\u001b[39;49mnew_algorithm,\n\u001b[1;32m      3\u001b[0m     input_df \u001b[39m=\u001b[39;49m test_data)\n",
      "File \u001b[0;32m~/final_ml/decoding-democracy/unsupervised_topic_segmentation/eval.py:250\u001b[0m, in \u001b[0;36meval_topic_segmentation\u001b[0;34m(topic_segmentation_algorithm, dataset_name, input_df, col_names)\u001b[0m\n\u001b[1;32m    246\u001b[0m     \u001b[39mreturn\u001b[39;00m merge_metrics(flattened_metrics, top_level_metrics)\n\u001b[1;32m    247\u001b[0m \u001b[39melse\u001b[39;00m:\n\u001b[1;32m    248\u001b[0m     \u001b[39mreturn\u001b[39;00m compute_metrics(\n\u001b[1;32m    249\u001b[0m         prediction_segmentations,\n\u001b[0;32m--> 250\u001b[0m         recode_labels(input_df,meeting_id_col_name,label_col_name))\n",
      "File \u001b[0;32m~/final_ml/decoding-democracy/unsupervised_topic_segmentation/eval.py:192\u001b[0m, in \u001b[0;36mrecode_labels\u001b[0;34m(input_df, meeting_id_col_name, label_col_name)\u001b[0m\n\u001b[1;32m    190\u001b[0m output \u001b[39m=\u001b[39m \u001b[39mdict\u001b[39m()\n\u001b[1;32m    191\u001b[0m \u001b[39mfor\u001b[39;00m meeting_id \u001b[39min\u001b[39;00m input_df[meeting_id_col_name]\u001b[39m.\u001b[39munique():\n\u001b[0;32m--> 192\u001b[0m     labels \u001b[39m=\u001b[39m input_df[input_df[meeting_id_col_name]\u001b[39m==\u001b[39;49mmeeting_id][label_col_name]\u001b[39m.\u001b[39mto_list()\n\u001b[1;32m    193\u001b[0m     recoded_labels \u001b[39m=\u001b[39m [\u001b[39m0\u001b[39m] \u001b[39m*\u001b[39m \u001b[39mlen\u001b[39m(labels)\n\u001b[1;32m    194\u001b[0m     current_label \u001b[39m=\u001b[39m labels[\u001b[39m0\u001b[39m]\n",
      "File \u001b[0;32m~/.local/lib/python3.10/site-packages/pandas/core/frame.py:3807\u001b[0m, in \u001b[0;36mDataFrame.__getitem__\u001b[0;34m(self, key)\u001b[0m\n\u001b[1;32m   3805\u001b[0m \u001b[39mif\u001b[39;00m \u001b[39mself\u001b[39m\u001b[39m.\u001b[39mcolumns\u001b[39m.\u001b[39mnlevels \u001b[39m>\u001b[39m \u001b[39m1\u001b[39m:\n\u001b[1;32m   3806\u001b[0m     \u001b[39mreturn\u001b[39;00m \u001b[39mself\u001b[39m\u001b[39m.\u001b[39m_getitem_multilevel(key)\n\u001b[0;32m-> 3807\u001b[0m indexer \u001b[39m=\u001b[39m \u001b[39mself\u001b[39;49m\u001b[39m.\u001b[39;49mcolumns\u001b[39m.\u001b[39;49mget_loc(key)\n\u001b[1;32m   3808\u001b[0m \u001b[39mif\u001b[39;00m is_integer(indexer):\n\u001b[1;32m   3809\u001b[0m     indexer \u001b[39m=\u001b[39m [indexer]\n",
      "File \u001b[0;32m~/.local/lib/python3.10/site-packages/pandas/core/indexes/base.py:3804\u001b[0m, in \u001b[0;36mIndex.get_loc\u001b[0;34m(self, key, method, tolerance)\u001b[0m\n\u001b[1;32m   3802\u001b[0m     \u001b[39mreturn\u001b[39;00m \u001b[39mself\u001b[39m\u001b[39m.\u001b[39m_engine\u001b[39m.\u001b[39mget_loc(casted_key)\n\u001b[1;32m   3803\u001b[0m \u001b[39mexcept\u001b[39;00m \u001b[39mKeyError\u001b[39;00m \u001b[39mas\u001b[39;00m err:\n\u001b[0;32m-> 3804\u001b[0m     \u001b[39mraise\u001b[39;00m \u001b[39mKeyError\u001b[39;00m(key) \u001b[39mfrom\u001b[39;00m \u001b[39merr\u001b[39;00m\n\u001b[1;32m   3805\u001b[0m \u001b[39mexcept\u001b[39;00m \u001b[39mTypeError\u001b[39;00m:\n\u001b[1;32m   3806\u001b[0m     \u001b[39m# If we have a listlike key, _check_indexing_error will raise\u001b[39;00m\n\u001b[1;32m   3807\u001b[0m     \u001b[39m#  InvalidIndexError. Otherwise we fall through and re-raise\u001b[39;00m\n\u001b[1;32m   3808\u001b[0m     \u001b[39m#  the TypeError.\u001b[39;00m\n\u001b[1;32m   3809\u001b[0m     \u001b[39mself\u001b[39m\u001b[39m.\u001b[39m_check_indexing_error(key)\n",
      "\u001b[0;31mKeyError\u001b[0m: 'label'"
     ]
    }
   ],
   "source": [
    "eval.eval_topic_segmentation(\n",
    "    topic_segmentation_algorithm=new_algorithm,\n",
    "    input_df = test_data)"
   ]
  },
  {
   "cell_type": "code",
   "execution_count": null,
   "metadata": {},
   "outputs": [
    {
     "name": "stdout",
     "output_type": "stream",
     "text": [
      "Even segmentation: [0, 100, 200, 300, 400, 500, 600]\n",
      "Pk on 1 meetings: 0.5935483870967742\n",
      "WinDiff on 1 meetings: 0.7913978494623656\n"
     ]
    },
    {
     "data": {
      "text/plain": [
       "{'average_Pk_': 0.5935483870967742, 'average_windiff_': 0.7913978494623656}"
      ]
     },
     "execution_count": 10,
     "metadata": {},
     "output_type": "execute_result"
    }
   ],
   "source": [
    "even_algorithm = types.EvenSegmentation(k=100)\n",
    "eval.eval_topic_segmentation(\n",
    "    topic_segmentation_algorithm=even_algorithm,\n",
    "    input_df = test_data)"
   ]
  },
  {
   "cell_type": "code",
   "execution_count": null,
   "metadata": {},
   "outputs": [
    {
     "name": "stdout",
     "output_type": "stream",
     "text": [
      "Random segmentation: [89, 236, 370, 518]\n",
      "Pk on 1 meetings: 0.5935483870967742\n",
      "WinDiff on 1 meetings: 0.6064516129032258\n"
     ]
    },
    {
     "data": {
      "text/plain": [
       "{'average_Pk_': 0.5935483870967742, 'average_windiff_': 0.6064516129032258}"
      ]
     },
     "execution_count": 11,
     "metadata": {},
     "output_type": "execute_result"
    }
   ],
   "source": [
    "random_algorithm = types.RandomSegmentation(random_threshold=0.99)\n",
    "eval.eval_topic_segmentation(\n",
    "    topic_segmentation_algorithm=random_algorithm,\n",
    "    input_df = test_data)"
   ]
  }
 ],
 "metadata": {
  "kernelspec": {
   "display_name": "councildata",
   "language": "python",
   "name": "python3"
  },
  "language_info": {
   "codemirror_mode": {
    "name": "ipython",
    "version": 3
   },
   "file_extension": ".py",
   "mimetype": "text/x-python",
   "name": "python",
   "nbconvert_exporter": "python",
   "pygments_lexer": "ipython3",
   "version": "3.10.6"
  },
  "orig_nbformat": 4
 },
 "nbformat": 4,
 "nbformat_minor": 2
}
