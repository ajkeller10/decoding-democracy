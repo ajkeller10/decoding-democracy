{
 "cells": [
  {
   "attachments": {},
   "cell_type": "markdown",
   "id": "09957723",
   "metadata": {},
   "source": [
    "AMI and ICSI Json Loads"
   ]
  },
  {
   "cell_type": "code",
   "execution_count": 1,
   "id": "15603d91",
   "metadata": {},
   "outputs": [
    {
     "ename": "ModuleNotFoundError",
     "evalue": "No module named 'create_test_data'",
     "output_type": "error",
     "traceback": [
      "\u001b[0;31m---------------------------------------------------------------------------\u001b[0m",
      "\u001b[0;31mModuleNotFoundError\u001b[0m                       Traceback (most recent call last)",
      "Cell \u001b[0;32mIn[1], line 6\u001b[0m\n\u001b[1;32m      4\u001b[0m \u001b[39mimport\u001b[39;00m \u001b[39mstatistics\u001b[39;00m\n\u001b[1;32m      5\u001b[0m \u001b[39m#from unsupervised_topic_segmentation import core, eval, types, dataset\u001b[39;00m\n\u001b[0;32m----> 6\u001b[0m \u001b[39mimport\u001b[39;00m \u001b[39mcreate_test_data\u001b[39;00m\n\u001b[1;32m      8\u001b[0m \u001b[39mimport\u001b[39;00m \u001b[39mre\u001b[39;00m \u001b[39m#remove later\u001b[39;00m\n",
      "\u001b[0;31mModuleNotFoundError\u001b[0m: No module named 'create_test_data'"
     ]
    }
   ],
   "source": [
    "import json\n",
    "import os\n",
    "import pandas as pd\n",
    "import statistics\n",
    "#from unsupervised_topic_segmentation import core, eval, types, dataset\n",
    "import create_test_data\n",
    "\n",
    "import re #remove later"
   ]
  },
  {
   "cell_type": "code",
   "execution_count": 2,
   "id": "ac3889cd",
   "metadata": {},
   "outputs": [
    {
     "name": "stdout",
     "output_type": "stream",
     "text": [
      "ami                          data_for_s3.pickle          lambda_function.py\n",
      "ami.pickle                   data_to_s3.py               lambda_function_old.py\n",
      "ami_isci_json_loading.ipynb  \u001b[0m\u001b[01;34membed_lambda\u001b[0m/               testing.ipynb\n",
      "ami_pickle                   \u001b[01;31membed_lambda.zip\u001b[0m            testing_aws.ipynb\n",
      "aws_instructions.txt         environment_op.yml\n",
      "batch_function.py            import_torch_for_lambda.py\n",
      "/home/opinney/final_ml/decoding-democracy\n"
     ]
    }
   ],
   "source": [
    "%ls\n",
    "#%cd .."
   ]
  },
  {
   "attachments": {},
   "cell_type": "markdown",
   "id": "d0c5f730",
   "metadata": {},
   "source": [
    "# Saving data for self labeling "
   ]
  },
  {
   "cell_type": "code",
   "execution_count": 6,
   "id": "06955e67",
   "metadata": {},
   "outputs": [],
   "source": [
    "t_cd = create_test_data.transcript_pickle_to_df()"
   ]
  },
  {
   "attachments": {},
   "cell_type": "markdown",
   "id": "1fb4acc9",
   "metadata": {},
   "source": [
    "naive method: split on sentences containing agenda or file number\n",
    "note that some sentences are artificially long, so we should not be splitting ami and isci on sentences either"
   ]
  },
  {
   "cell_type": "code",
   "execution_count": 3,
   "id": "7c33ada5",
   "metadata": {},
   "outputs": [],
   "source": [
    "#eg of long sentence\n",
    "# So yeah let me answer that question two ways first at the kind of macro level which I think you made a good statement there about we you know if we're going to be seeing the city grow and achieving some of the mayor's population goals we'll need to add housing units both where people want to live but across the city so I think that's a fair thing that we want to consider as we're carrying out this project in my opening comments I also said we're not bringing you final ideas or final final recommendations today so as far as like some of the very site-specific things you got into I don't pretend to come to you and say those because those are uniquely desirable residential neighborhoods because of their low density well and the thing I was going to mention the second point you know you you did you almost set us up too well to now make a plug that you know you talked about the Bayview neighborhood specifically and that is an area where we are doing detailed area planning right now led by Alderwoman Dimitrovich just tonight at from between 5 and 7 p.m. we have a meeting at South Shore Pavilion where we're going to present some initial recommendations for Bayview that have come out of the the planning process there so we are certainly looking at that and you know I've been we've certainly heard recommendations from residents in Bayview and I'm not going to pretend this has been unanimous but there's been a lot of people who said we do want to see growth in Bayview and we're certainly trying to accommodate that and and use that specific neighborhood planning process to plan for it so I think we're continuing to do the things we've always done which is plan you know both do neighborhood planning but also acknowledge the thing that you said at the start which is some of these issues when you look at regulatory tools and growth policy we do probably have to do some level of citywide analysis there so that's why we're proposing to undertake this project if you're right that depending on the way that this project unfolds like we certainly want input from the council and that's why we're proposing is a two-phase project where at the end of phase one we come back to you all at the council I presume that would come to ZND here and before we start actually writing you know writing code updates we say here are the general findings that we found here is the some general recommendations around things we want to that we want to advance and I think we'll ask the council this committee and then the council to go on record supporting that before we start right you said you know getting in the weeds of writing code because we don't want to bring you something that's not going to be able to get the support of this council additional questions Mr. Chair all the way yes please go ahead yes yes good afternoon Mr. Chair thank you and thanks for all the love for Bayview we love it and good looking out we are as Sam pointed out in almost a year and a half a very intense planning effort because we want to be part of the city solution we want to be in the driver's seat of our own future and we know we've had a lot of changes and so we are really working on a forward thinking vision how we can be more inclusive what that means what that looks and feels like and what changes need to happen and we've had some really interesting conversations in in Bayview that I'm happy to be part of that I don't think it's taken place at this level for a while however the question I had was kind of how you know how does this complement compare because I wouldn't want to support a citywide plan today that includes changes that I haven't finalized within my own district plan and I just wanted to understand that and we do have that meeting tonight where we're actually it's an open house we're going to first respond to the first draft that's that's what I'm interested in is I do believe we need a citywide plan but I mean where there's districts that are going through this intensive process I want to make sure that that's complemented and not contradicting Mr. Chair.\n"
   ]
  },
  {
   "cell_type": "code",
   "execution_count": 4,
   "id": "c7c761be",
   "metadata": {},
   "outputs": [
    {
     "data": {
      "text/plain": [
       "97"
      ]
     },
     "execution_count": 4,
     "metadata": {},
     "output_type": "execute_result"
    }
   ],
   "source": [
    "import random\n",
    "random.randint(0,412) #will look at transcript 42\n",
    "#text=t_cd.iloc[42]['sentences']\n",
    "#df_temp=pd.DataFrame({'sentences':text})\n",
    "#df_temp.to_csv(\"transcript_x.csv\")\n"
   ]
  },
  {
   "attachments": {},
   "cell_type": "markdown",
   "id": "c58a811d",
   "metadata": {},
   "source": [
    "# ICSI\n",
    "Not using icsi at the moment"
   ]
  },
  {
   "cell_type": "code",
   "execution_count": 5,
   "id": "20a95458",
   "metadata": {},
   "outputs": [
    {
     "name": "stdout",
     "output_type": "stream",
     "text": [
      "75\n"
     ]
    }
   ],
   "source": [
    "#not using icsi at the moment\n",
    "icsi_path='ami-and-icsi-corpora-master/icsi-corpus/output/dialogueActs/'\n",
    "\n",
    "text_jsons_isci=[]\n",
    "\n",
    "file_paths = os.listdir(icsi_path)\n",
    "file_paths = list(filter(lambda x: x.endswith(\".json\"),file_paths))\n",
    "\n",
    "for file_path in file_paths:\n",
    "    #probably can comment out the text section because text is contained in topic \n",
    "    with open( icsi_path + file_path ) as file:\n",
    "        json_load = json.loads(file.read())\n",
    "    text_jsons_isci.append(json_load)\n",
    "    \n",
    "print(len(text_jsons_isci))\n"
   ]
  },
  {
   "cell_type": "code",
   "execution_count": 6,
   "id": "fe447c25",
   "metadata": {},
   "outputs": [
    {
     "data": {
      "text/plain": [
       "1454"
      ]
     },
     "execution_count": 6,
     "metadata": {},
     "output_type": "execute_result"
    }
   ],
   "source": [
    "text_lengths_isci=[len(x) for x in text_jsons_isci]\n",
    "statistics.median(text_lengths_isci)\n"
   ]
  },
  {
   "attachments": {},
   "cell_type": "markdown",
   "id": "3367baa6",
   "metadata": {},
   "source": [
    "isci has fewer transcripts (75 versus 136), but might be better for our purposes because transcripts are longer (1454 utterances precleaning, rather than 251 in ami postcleaning), "
   ]
  },
  {
   "attachments": {},
   "cell_type": "markdown",
   "id": "5c7b13e1",
   "metadata": {},
   "source": [
    "# AMI\n",
    "Using AMI instead"
   ]
  },
  {
   "cell_type": "code",
   "execution_count": 3,
   "id": "13770747",
   "metadata": {},
   "outputs": [
    {
     "name": "stdout",
     "output_type": "stream",
     "text": [
      "True\n"
     ]
    },
    {
     "data": {
      "text/plain": [
       "136"
      ]
     },
     "execution_count": 3,
     "metadata": {},
     "output_type": "execute_result"
    }
   ],
   "source": [
    "#ami loading\n",
    "text_path='data/ami-and-icsi-corpora-master/ami-corpus/output/dialogueActs/'\n",
    "topic_path='data/ami-and-icsi-corpora-master/ami-corpus/output/topics/'\n",
    "\n",
    "text_jsons=[]\n",
    "topic_jsons=[]\n",
    "\n",
    "file_paths = os.listdir(topic_path)\n",
    "file_paths = list(filter(lambda x: x.endswith(\".json\"),file_paths))\n",
    "\n",
    "for file_path in file_paths:\n",
    "    #probably can comment out the text section because text is contained in topic \n",
    "    with open( text_path + file_path ) as file:\n",
    "        json_load = json.loads(file.read())\n",
    "    text_jsons.append(json_load)\n",
    "    \n",
    "    with open( topic_path + file_path ) as file:\n",
    "        json_load = json.loads(file.read())\n",
    "    topic_jsons.append(json_load)\n",
    "\n",
    "print(len(text_jsons)==len(topic_jsons))\n",
    "len(topic_jsons)\n"
   ]
  },
  {
   "cell_type": "code",
   "execution_count": null,
   "id": "167590da",
   "metadata": {},
   "outputs": [],
   "source": []
  },
  {
   "cell_type": "code",
   "execution_count": 4,
   "id": "10da1fbf",
   "metadata": {},
   "outputs": [
    {
     "ename": "NameError",
     "evalue": "name 'transcripts' is not defined",
     "output_type": "error",
     "traceback": [
      "\u001b[0;31m---------------------------------------------------------------------------\u001b[0m",
      "\u001b[0;31mNameError\u001b[0m                                 Traceback (most recent call last)",
      "Cell \u001b[0;32mIn[4], line 53\u001b[0m\n\u001b[1;32m     50\u001b[0m     topic_lengths\u001b[39m.\u001b[39mappend()\n\u001b[1;32m     51\u001b[0m     transcripts\u001b[39m.\u001b[39mappend(df_clean)\n\u001b[0;32m---> 53\u001b[0m ami_ids\u001b[39m=\u001b[39m[\u001b[39m\"\u001b[39m\u001b[39mAMI_\u001b[39m\u001b[39m\"\u001b[39m\u001b[39m+\u001b[39m\u001b[39mstr\u001b[39m(x) \u001b[39mfor\u001b[39;00m x \u001b[39min\u001b[39;00m \u001b[39mrange\u001b[39m(\u001b[39mlen\u001b[39m(transcripts))]\n\u001b[1;32m     54\u001b[0m sentences\u001b[39m=\u001b[39m[\u001b[39mlist\u001b[39m(x[\u001b[39m'\u001b[39m\u001b[39msentences\u001b[39m\u001b[39m'\u001b[39m]) \u001b[39mfor\u001b[39;00m x \u001b[39min\u001b[39;00m transcripts]\n\u001b[1;32m     55\u001b[0m topic_counts\u001b[39m=\u001b[39m[\u001b[39mlist\u001b[39m(x[\u001b[39m'\u001b[39m\u001b[39mtopic_count\u001b[39m\u001b[39m'\u001b[39m]) \u001b[39mfor\u001b[39;00m x \u001b[39min\u001b[39;00m transcripts]\n",
      "\u001b[0;31mNameError\u001b[0m: name 'transcripts' is not defined"
     ]
    }
   ],
   "source": [
    "#ami loading\n",
    "FILLERS=[\"um\", \"uh\", \"oh\", \"hmm\", \"mm-hmm\", \"uh-uh\", \"you know\"]\n",
    "topic_path='data/ami-and-icsi-corpora-master/ami-corpus/output/topics/'\n",
    "\n",
    "def jsons_to_dict_list(topic_path):\n",
    "\n",
    "    dict_list=[]\n",
    "\n",
    "    file_paths = os.listdir(topic_path)\n",
    "    file_paths = list(filter(lambda x: x.endswith(\".json\"),file_paths))\n",
    "\n",
    "    for file_path in file_paths:    \n",
    "        with open( topic_path + file_path ) as file:\n",
    "            json_load = json.loads(file.read())\n",
    "        dict_list.append(json_load)\n",
    "\n",
    "    return dict_list\n",
    "\n",
    "#put list of jsons into df\n",
    "topic_jsons=jsons_to_dict_list(topic_path)\n",
    "\n",
    "ami_ids=[\"AMI_\"+str(x) for x in range(len(topic_jsons))]\n",
    "\n",
    "t_ami = pd.DataFrame({'transcript_id':ami_ids,\n",
    "                      'topic_json':topic_jsons})\n",
    "\n",
    "def clean_topic_json(topic_json,fillers):\n",
    "\n",
    "    \n",
    "    df_temp=pd.DataFrame()\n",
    "    has_topic_desc=len(set([x['topic'] for x in topic_json]))>1\n",
    "\n",
    "    for index, topic in enumerate(topic_json): \n",
    "        text = [x['text'] for x in topic['dialogueacts']]\n",
    "        if df_temp.empty:\n",
    "            df_temp=pd.DataFrame({'sentences':text,'topic_count':index,'topic_desc':topic['topic'],'has_topic_desc':has_topic_desc})\n",
    "        else:\n",
    "            df_temp=pd.concat([df_temp,pd.DataFrame({'sentences':text,'topic_count':index,'topic_desc':topic['topic'],'has_topic_desc':has_topic_desc})])    \n",
    "\n",
    "    df_clean=dataset.preprocessing(df_temp,'sentences',FILLERS.copy(),min_caption_len=20)\n",
    "    \n",
    "    #text_length=len(df_clean)\n",
    "    #topic_length=df_clean.groupby(['topic_count']).size().mean()\n",
    "    #transcript=None\n",
    "\n",
    "    return df_clean\n",
    "\n",
    "    \n",
    "    text_lengths.append()\n",
    "    topic_lengths.append()\n",
    "    transcripts.append(df_clean)\n",
    "    \n",
    "ami_ids=[\"AMI_\"+str(x) for x in range(len(transcripts))]\n",
    "sentences=[list(x['sentences']) for x in transcripts]\n",
    "topic_counts=[list(x['topic_count']) for x in transcripts]\n",
    "\n",
    "t_ami = pd.DataFrame({'transcript_id':ami_ids,\n",
    "    'sentences':sentences,\n",
    "    'topic_counts':topic_counts,\n",
    "    'length':text_lengths,\n",
    "    'avg_topic_length':topic_lengths\n",
    "    })\n",
    "\n",
    "t_ami"
   ]
  },
  {
   "attachments": {},
   "cell_type": "markdown",
   "id": "e9b4b77f",
   "metadata": {},
   "source": [
    "# Viewing AMI"
   ]
  },
  {
   "attachments": {},
   "cell_type": "markdown",
   "id": "dc890e59",
   "metadata": {},
   "source": [
    "Notice that the text has a lot of filler. For example: <vocalsound>, um, uh, mm-hmm, uh-uh, oh. We want to keep in <gap> and <disfmarker>\n",
    "\n",
    "We can see that the sentence structure is different than our council text. There are many shorter sentences, some utterances are interupted and others contain multiple sentences. \n",
    "    "
   ]
  },
  {
   "cell_type": "code",
   "execution_count": 8,
   "id": "94394c41",
   "metadata": {},
   "outputs": [
    {
     "data": {
      "text/html": [
       "<div>\n",
       "<style scoped>\n",
       "    .dataframe tbody tr th:only-of-type {\n",
       "        vertical-align: middle;\n",
       "    }\n",
       "\n",
       "    .dataframe tbody tr th {\n",
       "        vertical-align: top;\n",
       "    }\n",
       "\n",
       "    .dataframe thead th {\n",
       "        text-align: right;\n",
       "    }\n",
       "</style>\n",
       "<table border=\"1\" class=\"dataframe\">\n",
       "  <thead>\n",
       "    <tr style=\"text-align: right;\">\n",
       "      <th></th>\n",
       "      <th>index</th>\n",
       "      <th>sentences</th>\n",
       "    </tr>\n",
       "  </thead>\n",
       "  <tbody>\n",
       "    <tr>\n",
       "      <th>0</th>\n",
       "      <td>14</td>\n",
       "      <td>Now I have my screen back too</td>\n",
       "    </tr>\n",
       "    <tr>\n",
       "      <th>1</th>\n",
       "      <td>20</td>\n",
       "      <td>we have presentations</td>\n",
       "    </tr>\n",
       "    <tr>\n",
       "      <th>2</th>\n",
       "      <td>21</td>\n",
       "      <td>So first , it's your turn</td>\n",
       "    </tr>\n",
       "    <tr>\n",
       "      <th>3</th>\n",
       "      <td>35</td>\n",
       "      <td>let's  talk about the interface  concept</td>\n",
       "    </tr>\n",
       "    <tr>\n",
       "      <th>4</th>\n",
       "      <td>36</td>\n",
       "      <td>, first I'll  I'll  discuss the buttons we ju...</td>\n",
       "    </tr>\n",
       "    <tr>\n",
       "      <th>...</th>\n",
       "      <td>...</td>\n",
       "      <td>...</td>\n",
       "    </tr>\n",
       "    <tr>\n",
       "      <th>329</th>\n",
       "      <td>769</td>\n",
       "      <td>It has to be ready in the next meeting</td>\n",
       "    </tr>\n",
       "    <tr>\n",
       "      <th>330</th>\n",
       "      <td>774</td>\n",
       "      <td>Next meeting is called the detailed design</td>\n",
       "    </tr>\n",
       "    <tr>\n",
       "      <th>331</th>\n",
       "      <td>776</td>\n",
       "      <td>Everyth everything has to be ready</td>\n",
       "    </tr>\n",
       "    <tr>\n",
       "      <th>332</th>\n",
       "      <td>778</td>\n",
       "      <td>Thanks for your attention</td>\n",
       "    </tr>\n",
       "    <tr>\n",
       "      <th>333</th>\n",
       "      <td>780</td>\n",
       "      <td>See you at the next meeting</td>\n",
       "    </tr>\n",
       "  </tbody>\n",
       "</table>\n",
       "<p>334 rows × 2 columns</p>\n",
       "</div>"
      ],
      "text/plain": [
       "     index                                          sentences\n",
       "0       14                     Now I have my screen back too \n",
       "1       20                             we have presentations \n",
       "2       21                         So first , it's your turn \n",
       "3       35          let's  talk about the interface  concept \n",
       "4       36   , first I'll  I'll  discuss the buttons we ju...\n",
       "..     ...                                                ...\n",
       "329    769            It has to be ready in the next meeting \n",
       "330    774        Next meeting is called the detailed design \n",
       "331    776                Everyth everything has to be ready \n",
       "332    778                         Thanks for your attention \n",
       "333    780                       See you at the next meeting \n",
       "\n",
       "[334 rows x 2 columns]"
      ]
     },
     "execution_count": 8,
     "metadata": {},
     "output_type": "execute_result"
    }
   ],
   "source": [
    "text = [x['text'] for x in text_jsons[0]]\n",
    "text_clean = dataset.preprocessing(pd.DataFrame({'sentences':text}),'sentences')\n",
    "text_clean"
   ]
  },
  {
   "attachments": {},
   "cell_type": "markdown",
   "id": "21a09f6f",
   "metadata": {},
   "source": [
    "Topics "
   ]
  },
  {
   "cell_type": "code",
   "execution_count": 9,
   "id": "c22209dd",
   "metadata": {},
   "outputs": [
    {
     "name": "stdout",
     "output_type": "stream",
     "text": [
      "dict_keys(['id', 'topic', 'description', 'dialogueacts', 'subtopics'])\n",
      "{'opening', 'marketing expert presentation', 'industrial designer presentation', 'closing', 'discussion', 'interface specialist presentation'}\n"
     ]
    }
   ],
   "source": [
    "print(topic_jsons[0][0].keys())\n",
    "print(set([x['topic'] for x in topic_jsons[0]])) "
   ]
  },
  {
   "attachments": {},
   "cell_type": "markdown",
   "id": "bfcdeac2",
   "metadata": {},
   "source": [
    "# Clean AMI\n",
    "\n",
    "This code takes 3.7 seconds to run. Make sure not to delete the .copy()"
   ]
  },
  {
   "attachments": {},
   "cell_type": "markdown",
   "id": "2bc21516",
   "metadata": {},
   "source": [
    "# Drew, do you understand what this code does?"
   ]
  },
  {
   "cell_type": "code",
   "execution_count": 10,
   "id": "c466bc00",
   "metadata": {},
   "outputs": [],
   "source": [
    "PARALLEL_INFERENCE_INSTANCES = 20\n",
    "\n",
    "def embed_bert(df, caption_col_name, parallel_inference_instances = PARALLEL_INFERENCE_INSTANCES):\n",
    "    '''copied from core.topic_segmentation_bert()'''\n",
    "    # parallel inference\n",
    "    batches_features = []\n",
    "    for batch_sentences in core.split_list(\n",
    "        df[caption_col_name], parallel_inference_instances\n",
    "    ): # splits into sequential batches such that total number of batches equals INSTANCES value\n",
    "        batches_features.append(core.get_features_from_sentence(batch_sentences)) # list of tensors of size (1,768), one for each sentence\n",
    "    features = core.flatten_features(batches_features)   # changes back to list of length 768 tensors, one for each sentence in dataset\n",
    "    return features\n"
   ]
  },
  {
   "cell_type": "code",
   "execution_count": 11,
   "id": "825a4f5b",
   "metadata": {},
   "outputs": [
    {
     "data": {
      "text/plain": [
       "459"
      ]
     },
     "execution_count": 11,
     "metadata": {},
     "output_type": "execute_result"
    }
   ],
   "source": [
    "test_data = pd.DataFrame(data={'meeting_id':t_cd.iloc[0]['transcript_id'],'caption':t_cd.iloc[0]['sentences']})\n",
    "\n",
    "hold=embed_bert(test_data,'caption',20)\n",
    "len(hold)"
   ]
  },
  {
   "cell_type": "code",
   "execution_count": 14,
   "id": "46a2193d",
   "metadata": {},
   "outputs": [
    {
     "ename": "NameError",
     "evalue": "name 'df_temp' is not defined",
     "output_type": "error",
     "traceback": [
      "\u001b[0;31m---------------------------------------------------------------------------\u001b[0m",
      "\u001b[0;31mNameError\u001b[0m                                 Traceback (most recent call last)",
      "Cell \u001b[0;32mIn[14], line 1\u001b[0m\n\u001b[0;32m----> 1\u001b[0m df_temp\n",
      "\u001b[0;31mNameError\u001b[0m: name 'df_temp' is not defined"
     ]
    }
   ],
   "source": [
    "df_temp"
   ]
  },
  {
   "cell_type": "code",
   "execution_count": 15,
   "id": "418e7c5c",
   "metadata": {},
   "outputs": [
    {
     "data": {
      "text/html": [
       "<div>\n",
       "<style scoped>\n",
       "    .dataframe tbody tr th:only-of-type {\n",
       "        vertical-align: middle;\n",
       "    }\n",
       "\n",
       "    .dataframe tbody tr th {\n",
       "        vertical-align: top;\n",
       "    }\n",
       "\n",
       "    .dataframe thead th {\n",
       "        text-align: right;\n",
       "    }\n",
       "</style>\n",
       "<table border=\"1\" class=\"dataframe\">\n",
       "  <thead>\n",
       "    <tr style=\"text-align: right;\">\n",
       "      <th></th>\n",
       "      <th>index</th>\n",
       "      <th>sentences</th>\n",
       "      <th>topic_count</th>\n",
       "      <th>topic_desc</th>\n",
       "      <th>has_topic_desc</th>\n",
       "    </tr>\n",
       "  </thead>\n",
       "  <tbody>\n",
       "    <tr>\n",
       "      <th>0</th>\n",
       "      <td>2</td>\n",
       "      <td>This is our first team meeting</td>\n",
       "      <td>0</td>\n",
       "      <td>None</td>\n",
       "      <td>False</td>\n",
       "    </tr>\n",
       "    <tr>\n",
       "      <th>1</th>\n",
       "      <td>3</td>\n",
       "      <td>I'll be your Project Manager for today , for t...</td>\n",
       "      <td>0</td>\n",
       "      <td>None</td>\n",
       "      <td>False</td>\n",
       "    </tr>\n",
       "    <tr>\n",
       "      <th>2</th>\n",
       "      <td>5</td>\n",
       "      <td>will be giving this presentation for you to k...</td>\n",
       "      <td>0</td>\n",
       "      <td>None</td>\n",
       "      <td>False</td>\n",
       "    </tr>\n",
       "    <tr>\n",
       "      <th>3</th>\n",
       "      <td>7</td>\n",
       "      <td>that's the agenda for today</td>\n",
       "      <td>0</td>\n",
       "      <td>None</td>\n",
       "      <td>False</td>\n",
       "    </tr>\n",
       "    <tr>\n",
       "      <th>4</th>\n",
       "      <td>9</td>\n",
       "      <td>of course we're new to each other ,</td>\n",
       "      <td>0</td>\n",
       "      <td>None</td>\n",
       "      <td>False</td>\n",
       "    </tr>\n",
       "    <tr>\n",
       "      <th>...</th>\n",
       "      <td>...</td>\n",
       "      <td>...</td>\n",
       "      <td>...</td>\n",
       "      <td>...</td>\n",
       "      <td>...</td>\n",
       "    </tr>\n",
       "    <tr>\n",
       "      <th>187</th>\n",
       "      <td>1</td>\n",
       "      <td>the the personal coach will give you the your ...</td>\n",
       "      <td>3</td>\n",
       "      <td>None</td>\n",
       "      <td>False</td>\n",
       "    </tr>\n",
       "    <tr>\n",
       "      <th>188</th>\n",
       "      <td>2</td>\n",
       "      <td>So we'll just meet back in here thirty minutes</td>\n",
       "      <td>3</td>\n",
       "      <td>None</td>\n",
       "      <td>False</td>\n",
       "    </tr>\n",
       "    <tr>\n",
       "      <th>189</th>\n",
       "      <td>3</td>\n",
       "      <td>I'm sure we have that</td>\n",
       "      <td>3</td>\n",
       "      <td>None</td>\n",
       "      <td>False</td>\n",
       "    </tr>\n",
       "    <tr>\n",
       "      <th>190</th>\n",
       "      <td>9</td>\n",
       "      <td>thanks for attending</td>\n",
       "      <td>3</td>\n",
       "      <td>None</td>\n",
       "      <td>False</td>\n",
       "    </tr>\n",
       "    <tr>\n",
       "      <th>191</th>\n",
       "      <td>10</td>\n",
       "      <td>I'll see you back here in thirty minutes</td>\n",
       "      <td>3</td>\n",
       "      <td>None</td>\n",
       "      <td>False</td>\n",
       "    </tr>\n",
       "  </tbody>\n",
       "</table>\n",
       "<p>192 rows × 5 columns</p>\n",
       "</div>"
      ],
      "text/plain": [
       "     index                                          sentences  topic_count  \\\n",
       "0        2                    This is our first team meeting             0   \n",
       "1        3  I'll be your Project Manager for today , for t...            0   \n",
       "2        5   will be giving this presentation for you to k...            0   \n",
       "3        7                       that's the agenda for today             0   \n",
       "4        9                of course we're new to each other ,            0   \n",
       "..     ...                                                ...          ...   \n",
       "187      1  the the personal coach will give you the your ...            3   \n",
       "188      2    So we'll just meet back in here thirty minutes             3   \n",
       "189      3                             I'm sure we have that             3   \n",
       "190      9                              thanks for attending             3   \n",
       "191     10          I'll see you back here in thirty minutes             3   \n",
       "\n",
       "    topic_desc  has_topic_desc  \n",
       "0         None           False  \n",
       "1         None           False  \n",
       "2         None           False  \n",
       "3         None           False  \n",
       "4         None           False  \n",
       "..         ...             ...  \n",
       "187       None           False  \n",
       "188       None           False  \n",
       "189       None           False  \n",
       "190       None           False  \n",
       "191       None           False  \n",
       "\n",
       "[192 rows x 5 columns]"
      ]
     },
     "execution_count": 15,
     "metadata": {},
     "output_type": "execute_result"
    }
   ],
   "source": [
    "transcripts=[]\n",
    "text_lengths=[]\n",
    "topic_lengths=[] #can remove later\n",
    "FILLERS=[\"um\", \"uh\", \"oh\", \"hmm\", \"mm-hmm\", \"uh-uh\", \"you know\"]\n",
    "\n",
    "for topic_json in topic_jsons:\n",
    "\n",
    "    df_temp=pd.DataFrame()\n",
    "    has_topic_desc=len(set([x['topic'] for x in topic_json]))>1\n",
    "\n",
    "    for index, topic in enumerate(topic_json): \n",
    "        text = [x['text'] for x in topic['dialogueacts']]\n",
    "        if df_temp.empty:\n",
    "            df_temp=pd.DataFrame({'sentences':text,'topic_count':index,'topic_desc':topic['topic'],'has_topic_desc':has_topic_desc})\n",
    "        else:\n",
    "            df_temp=pd.concat([df_temp,pd.DataFrame({'sentences':text,'topic_count':index,'topic_desc':topic['topic'],'has_topic_desc':has_topic_desc})])    \n",
    "\n",
    "    df_clean=dataset.preprocessing(df_temp,'sentences',FILLERS.copy(),min_caption_len=20)\n",
    "    \n",
    "    \n",
    "    text_lengths.append(len(df_clean))\n",
    "    topic_lengths.append(df_clean.groupby(['topic_count']).size().mean())\n",
    "    transcripts.append(df_clean)\n",
    "    \n",
    "df_clean"
   ]
  },
  {
   "attachments": {},
   "cell_type": "markdown",
   "id": "7a9bc093",
   "metadata": {},
   "source": [
    "calculate average topic length"
   ]
  },
  {
   "cell_type": "code",
   "execution_count": 12,
   "id": "572643ea",
   "metadata": {},
   "outputs": [
    {
     "data": {
      "text/plain": [
       "216.28676470588235"
      ]
     },
     "execution_count": 12,
     "metadata": {},
     "output_type": "execute_result"
    }
   ],
   "source": [
    "sum(text_lengths)/len(text_lengths) #this will be an issue because our texts are longer in our city council transcripts"
   ]
  },
  {
   "cell_type": "code",
   "execution_count": 13,
   "id": "eee8a3ae",
   "metadata": {},
   "outputs": [
    {
     "data": {
      "text/plain": [
       "24.944444444444443"
      ]
     },
     "execution_count": 13,
     "metadata": {},
     "output_type": "execute_result"
    }
   ],
   "source": [
    "import statistics\n",
    "statistics.median(topic_lengths) #this is median of averages, not total average"
   ]
  },
  {
   "attachments": {},
   "cell_type": "markdown",
   "id": "4ab9279b",
   "metadata": {},
   "source": [
    "## Make AMI Transcripts match Council Data format"
   ]
  },
  {
   "cell_type": "code",
   "execution_count": null,
   "id": "18364072",
   "metadata": {},
   "outputs": [],
   "source": []
  },
  {
   "cell_type": "code",
   "execution_count": 14,
   "id": "72c5ec2e",
   "metadata": {},
   "outputs": [],
   "source": [
    "ami_ids=[\"AMI_\"+str(x) for x in range(len(transcripts))]\n",
    "sentences=[list(x['sentences']) for x in transcripts]\n",
    "topic_counts=[list(x['topic_count']) for x in transcripts]"
   ]
  },
  {
   "cell_type": "code",
   "execution_count": 15,
   "id": "a16f17e1",
   "metadata": {},
   "outputs": [
    {
     "data": {
      "text/html": [
       "<div>\n",
       "<style scoped>\n",
       "    .dataframe tbody tr th:only-of-type {\n",
       "        vertical-align: middle;\n",
       "    }\n",
       "\n",
       "    .dataframe tbody tr th {\n",
       "        vertical-align: top;\n",
       "    }\n",
       "\n",
       "    .dataframe thead th {\n",
       "        text-align: right;\n",
       "    }\n",
       "</style>\n",
       "<table border=\"1\" class=\"dataframe\">\n",
       "  <thead>\n",
       "    <tr style=\"text-align: right;\">\n",
       "      <th></th>\n",
       "      <th>transcript_id</th>\n",
       "      <th>sentences</th>\n",
       "    </tr>\n",
       "  </thead>\n",
       "  <tbody>\n",
       "    <tr>\n",
       "      <th>0</th>\n",
       "      <td>d0a7e5864959</td>\n",
       "      <td>[And older woman Jocasta Zamarripa., Shortly, ...</td>\n",
       "    </tr>\n",
       "    <tr>\n",
       "      <th>1</th>\n",
       "      <td>e9a7a8ac9081</td>\n",
       "      <td>[Meeting., My name is Cavalier Johnson., I'm c...</td>\n",
       "    </tr>\n",
       "    <tr>\n",
       "      <th>2</th>\n",
       "      <td>694b0e5b01a7</td>\n",
       "      <td>[Joining you this morning is Vice Chair Alderm...</td>\n",
       "    </tr>\n",
       "    <tr>\n",
       "      <th>3</th>\n",
       "      <td>ad734a167e5a</td>\n",
       "      <td>[Our first meeting of 2020, the Judiciary and ...</td>\n",
       "    </tr>\n",
       "    <tr>\n",
       "      <th>4</th>\n",
       "      <td>fe845b99f32e</td>\n",
       "      <td>[Alderman Hamilton., Here., Kovach., Here., Ba...</td>\n",
       "    </tr>\n",
       "    <tr>\n",
       "      <th>...</th>\n",
       "      <td>...</td>\n",
       "      <td>...</td>\n",
       "    </tr>\n",
       "    <tr>\n",
       "      <th>407</th>\n",
       "      <td>468bb3242311</td>\n",
       "      <td>[Commission for Tuesday September 1st 2020 at ...</td>\n",
       "    </tr>\n",
       "    <tr>\n",
       "      <th>408</th>\n",
       "      <td>16327f867c7e</td>\n",
       "      <td>[Our 2021 meeting of the Fire and Police Commi...</td>\n",
       "    </tr>\n",
       "    <tr>\n",
       "      <th>409</th>\n",
       "      <td>ea6416ba848c</td>\n",
       "      <td>[Thank you, Mr. President., You know, my colle...</td>\n",
       "    </tr>\n",
       "    <tr>\n",
       "      <th>410</th>\n",
       "      <td>d32da631854f</td>\n",
       "      <td>[This meeting will come to order, this council...</td>\n",
       "    </tr>\n",
       "    <tr>\n",
       "      <th>411</th>\n",
       "      <td>aeb4ca3154ba</td>\n",
       "      <td>[Sally Peltz?, Here., Nicholas Hans Robinson?,...</td>\n",
       "    </tr>\n",
       "  </tbody>\n",
       "</table>\n",
       "<p>412 rows × 2 columns</p>\n",
       "</div>"
      ],
      "text/plain": [
       "    transcript_id                                          sentences\n",
       "0    d0a7e5864959  [And older woman Jocasta Zamarripa., Shortly, ...\n",
       "1    e9a7a8ac9081  [Meeting., My name is Cavalier Johnson., I'm c...\n",
       "2    694b0e5b01a7  [Joining you this morning is Vice Chair Alderm...\n",
       "3    ad734a167e5a  [Our first meeting of 2020, the Judiciary and ...\n",
       "4    fe845b99f32e  [Alderman Hamilton., Here., Kovach., Here., Ba...\n",
       "..            ...                                                ...\n",
       "407  468bb3242311  [Commission for Tuesday September 1st 2020 at ...\n",
       "408  16327f867c7e  [Our 2021 meeting of the Fire and Police Commi...\n",
       "409  ea6416ba848c  [Thank you, Mr. President., You know, my colle...\n",
       "410  d32da631854f  [This meeting will come to order, this council...\n",
       "411  aeb4ca3154ba  [Sally Peltz?, Here., Nicholas Hans Robinson?,...\n",
       "\n",
       "[412 rows x 2 columns]"
      ]
     },
     "execution_count": 15,
     "metadata": {},
     "output_type": "execute_result"
    }
   ],
   "source": [
    "t_cd = create_test_data.transcript_pickle_to_df()\n",
    "t_ami = pd.DataFrame({'transcript_id':ami_ids,\n",
    "    'sentences':sentences,\n",
    "    'topic_counts':topic_counts,\n",
    "    'length':text_lengths,\n",
    "    'avg_topic_length':topic_lengths\n",
    "    })\n",
    "\n",
    "t_cd"
   ]
  },
  {
   "cell_type": "code",
   "execution_count": 16,
   "id": "9c4e2f28",
   "metadata": {},
   "outputs": [
    {
     "data": {
      "text/html": [
       "<div>\n",
       "<style scoped>\n",
       "    .dataframe tbody tr th:only-of-type {\n",
       "        vertical-align: middle;\n",
       "    }\n",
       "\n",
       "    .dataframe tbody tr th {\n",
       "        vertical-align: top;\n",
       "    }\n",
       "\n",
       "    .dataframe thead th {\n",
       "        text-align: right;\n",
       "    }\n",
       "</style>\n",
       "<table border=\"1\" class=\"dataframe\">\n",
       "  <thead>\n",
       "    <tr style=\"text-align: right;\">\n",
       "      <th></th>\n",
       "      <th>transcript_id</th>\n",
       "      <th>sentences</th>\n",
       "      <th>topic_counts</th>\n",
       "      <th>length</th>\n",
       "      <th>avg_topic_length</th>\n",
       "    </tr>\n",
       "  </thead>\n",
       "  <tbody>\n",
       "    <tr>\n",
       "      <th>0</th>\n",
       "      <td>AMI_0</td>\n",
       "      <td>[Now I have my screen back too ,   we have pre...</td>\n",
       "      <td>[0, 0, 0, 1, 1, 1, 1, 1, 1, 1, 1, 1, 1, 1, 1, ...</td>\n",
       "      <td>230</td>\n",
       "      <td>38.333333</td>\n",
       "    </tr>\n",
       "    <tr>\n",
       "      <th>1</th>\n",
       "      <td>AMI_1</td>\n",
       "      <td>[This is our third meeting already , I hope yo...</td>\n",
       "      <td>[0, 0, 0, 0, 0, 0, 0, 0, 0, 0, 0, 0, 0, 0, 0, ...</td>\n",
       "      <td>78</td>\n",
       "      <td>11.142857</td>\n",
       "    </tr>\n",
       "    <tr>\n",
       "      <th>2</th>\n",
       "      <td>AMI_2</td>\n",
       "      <td>[Everybody found his place again ? Yeah ?, thi...</td>\n",
       "      <td>[0, 0, 0, 0, 0, 0, 0, 0, 0, 0, 0, 0, 0, 0, 0, ...</td>\n",
       "      <td>90</td>\n",
       "      <td>12.857143</td>\n",
       "    </tr>\n",
       "    <tr>\n",
       "      <th>3</th>\n",
       "      <td>AMI_3</td>\n",
       "      <td>[Good morning everybody ,  I'm glad you could ...</td>\n",
       "      <td>[1, 1, 1, 1, 1, 1, 1, 1, 1, 1, 1, 1, 2, 2, 2, ...</td>\n",
       "      <td>135</td>\n",
       "      <td>16.875000</td>\n",
       "    </tr>\n",
       "    <tr>\n",
       "      <th>4</th>\n",
       "      <td>AMI_4</td>\n",
       "      <td>[English from now on  , Where are are all the ...</td>\n",
       "      <td>[0, 1, 1, 1, 1, 1, 1, 1, 1, 1, 1, 1, 1, 1, 1, ...</td>\n",
       "      <td>251</td>\n",
       "      <td>22.818182</td>\n",
       "    </tr>\n",
       "    <tr>\n",
       "      <th>...</th>\n",
       "      <td>...</td>\n",
       "      <td>...</td>\n",
       "      <td>...</td>\n",
       "      <td>...</td>\n",
       "      <td>...</td>\n",
       "    </tr>\n",
       "    <tr>\n",
       "      <th>131</th>\n",
       "      <td>AMI_131</td>\n",
       "      <td>[start of the first meeting , Right , so agend...</td>\n",
       "      <td>[0, 0, 0, 0, 0, 1, 1, 1, 1, 1, 1, 2, 2, 2, 2, ...</td>\n",
       "      <td>180</td>\n",
       "      <td>20.000000</td>\n",
       "    </tr>\n",
       "    <tr>\n",
       "      <th>132</th>\n",
       "      <td>AMI_132</td>\n",
       "      <td>[I wanna find our if our remote works ,   here...</td>\n",
       "      <td>[0, 0, 0, 0, 0, 0, 0, 1, 1, 1, 1, 1, 1, 2, 2, ...</td>\n",
       "      <td>232</td>\n",
       "      <td>38.666667</td>\n",
       "    </tr>\n",
       "    <tr>\n",
       "      <th>133</th>\n",
       "      <td>AMI_133</td>\n",
       "      <td>[So do we need to re-train Mike on how to put ...</td>\n",
       "      <td>[0, 0, 0, 0, 0, 0, 0, 0, 1, 1, 1, 1, 1, 1, 1, ...</td>\n",
       "      <td>84</td>\n",
       "      <td>12.000000</td>\n",
       "    </tr>\n",
       "    <tr>\n",
       "      <th>134</th>\n",
       "      <td>AMI_134</td>\n",
       "      <td>[That's as far as it goes  ,  good morning eve...</td>\n",
       "      <td>[0, 0, 0, 0, 0, 0, 0, 0, 0, 0, 0, 0, 0, 0, 0, ...</td>\n",
       "      <td>152</td>\n",
       "      <td>38.000000</td>\n",
       "    </tr>\n",
       "    <tr>\n",
       "      <th>135</th>\n",
       "      <td>AMI_135</td>\n",
       "      <td>[This is our first team meeting , I'll be your...</td>\n",
       "      <td>[0, 0, 0, 0, 0, 0, 0, 0, 0, 0, 0, 0, 0, 0, 0, ...</td>\n",
       "      <td>192</td>\n",
       "      <td>48.000000</td>\n",
       "    </tr>\n",
       "  </tbody>\n",
       "</table>\n",
       "<p>136 rows × 5 columns</p>\n",
       "</div>"
      ],
      "text/plain": [
       "    transcript_id                                          sentences  \\\n",
       "0           AMI_0  [Now I have my screen back too ,   we have pre...   \n",
       "1           AMI_1  [This is our third meeting already , I hope yo...   \n",
       "2           AMI_2  [Everybody found his place again ? Yeah ?, thi...   \n",
       "3           AMI_3  [Good morning everybody ,  I'm glad you could ...   \n",
       "4           AMI_4  [English from now on  , Where are are all the ...   \n",
       "..            ...                                                ...   \n",
       "131       AMI_131  [start of the first meeting , Right , so agend...   \n",
       "132       AMI_132  [I wanna find our if our remote works ,   here...   \n",
       "133       AMI_133  [So do we need to re-train Mike on how to put ...   \n",
       "134       AMI_134  [That's as far as it goes  ,  good morning eve...   \n",
       "135       AMI_135  [This is our first team meeting , I'll be your...   \n",
       "\n",
       "                                          topic_counts  length  \\\n",
       "0    [0, 0, 0, 1, 1, 1, 1, 1, 1, 1, 1, 1, 1, 1, 1, ...     230   \n",
       "1    [0, 0, 0, 0, 0, 0, 0, 0, 0, 0, 0, 0, 0, 0, 0, ...      78   \n",
       "2    [0, 0, 0, 0, 0, 0, 0, 0, 0, 0, 0, 0, 0, 0, 0, ...      90   \n",
       "3    [1, 1, 1, 1, 1, 1, 1, 1, 1, 1, 1, 1, 2, 2, 2, ...     135   \n",
       "4    [0, 1, 1, 1, 1, 1, 1, 1, 1, 1, 1, 1, 1, 1, 1, ...     251   \n",
       "..                                                 ...     ...   \n",
       "131  [0, 0, 0, 0, 0, 1, 1, 1, 1, 1, 1, 2, 2, 2, 2, ...     180   \n",
       "132  [0, 0, 0, 0, 0, 0, 0, 1, 1, 1, 1, 1, 1, 2, 2, ...     232   \n",
       "133  [0, 0, 0, 0, 0, 0, 0, 0, 1, 1, 1, 1, 1, 1, 1, ...      84   \n",
       "134  [0, 0, 0, 0, 0, 0, 0, 0, 0, 0, 0, 0, 0, 0, 0, ...     152   \n",
       "135  [0, 0, 0, 0, 0, 0, 0, 0, 0, 0, 0, 0, 0, 0, 0, ...     192   \n",
       "\n",
       "     avg_topic_length  \n",
       "0           38.333333  \n",
       "1           11.142857  \n",
       "2           12.857143  \n",
       "3           16.875000  \n",
       "4           22.818182  \n",
       "..                ...  \n",
       "131         20.000000  \n",
       "132         38.666667  \n",
       "133         12.000000  \n",
       "134         38.000000  \n",
       "135         48.000000  \n",
       "\n",
       "[136 rows x 5 columns]"
      ]
     },
     "execution_count": 16,
     "metadata": {},
     "output_type": "execute_result"
    }
   ],
   "source": [
    "t_ami"
   ]
  },
  {
   "cell_type": "code",
   "execution_count": 17,
   "id": "5bceaf95",
   "metadata": {},
   "outputs": [],
   "source": [
    "hold=create_test_data.generate_segment(t_ami, doc_count_limit = 5, sentence_min = 20, supervised = True)  "
   ]
  },
  {
   "cell_type": "code",
   "execution_count": 18,
   "id": "249d5586",
   "metadata": {},
   "outputs": [
    {
     "name": "stdout",
     "output_type": "stream",
     "text": [
      "1\n",
      "{0, 1, 2, 3, 4, 5, 6, 7, 8, 9, 10, 11}\n"
     ]
    }
   ],
   "source": [
    "print(hold[3])\n",
    "print(set(hold[2]))"
   ]
  },
  {
   "attachments": {},
   "cell_type": "markdown",
   "id": "01f48249",
   "metadata": {},
   "source": [
    "# Embed Data"
   ]
  },
  {
   "cell_type": "code",
   "execution_count": null,
   "id": "931060df",
   "metadata": {},
   "outputs": [],
   "source": [
    "from unsupervised_topic_segmentation import core, eval, types, dataset\n",
    "import create_test_data\n",
    "import pandas as pd\n",
    "import numpy as np\n",
    "import matplotlib.pyplot as plt\n",
    "import pickle"
   ]
  },
  {
   "cell_type": "code",
   "execution_count": 24,
   "id": "861f3f51",
   "metadata": {},
   "outputs": [
    {
     "data": {
      "text/html": [
       "<div>\n",
       "<style scoped>\n",
       "    .dataframe tbody tr th:only-of-type {\n",
       "        vertical-align: middle;\n",
       "    }\n",
       "\n",
       "    .dataframe tbody tr th {\n",
       "        vertical-align: top;\n",
       "    }\n",
       "\n",
       "    .dataframe thead th {\n",
       "        text-align: right;\n",
       "    }\n",
       "</style>\n",
       "<table border=\"1\" class=\"dataframe\">\n",
       "  <thead>\n",
       "    <tr style=\"text-align: right;\">\n",
       "      <th></th>\n",
       "      <th>transcript_id</th>\n",
       "      <th>sentences</th>\n",
       "    </tr>\n",
       "  </thead>\n",
       "  <tbody>\n",
       "    <tr>\n",
       "      <th>0</th>\n",
       "      <td>d0a7e5864959</td>\n",
       "      <td>[And older woman Jocasta Zamarripa., Shortly, ...</td>\n",
       "    </tr>\n",
       "    <tr>\n",
       "      <th>1</th>\n",
       "      <td>e9a7a8ac9081</td>\n",
       "      <td>[Meeting., My name is Cavalier Johnson., I'm c...</td>\n",
       "    </tr>\n",
       "    <tr>\n",
       "      <th>2</th>\n",
       "      <td>694b0e5b01a7</td>\n",
       "      <td>[Joining you this morning is Vice Chair Alderm...</td>\n",
       "    </tr>\n",
       "    <tr>\n",
       "      <th>3</th>\n",
       "      <td>ad734a167e5a</td>\n",
       "      <td>[Our first meeting of 2020, the Judiciary and ...</td>\n",
       "    </tr>\n",
       "    <tr>\n",
       "      <th>4</th>\n",
       "      <td>fe845b99f32e</td>\n",
       "      <td>[Alderman Hamilton., Here., Kovach., Here., Ba...</td>\n",
       "    </tr>\n",
       "    <tr>\n",
       "      <th>...</th>\n",
       "      <td>...</td>\n",
       "      <td>...</td>\n",
       "    </tr>\n",
       "    <tr>\n",
       "      <th>407</th>\n",
       "      <td>468bb3242311</td>\n",
       "      <td>[Commission for Tuesday September 1st 2020 at ...</td>\n",
       "    </tr>\n",
       "    <tr>\n",
       "      <th>408</th>\n",
       "      <td>16327f867c7e</td>\n",
       "      <td>[Our 2021 meeting of the Fire and Police Commi...</td>\n",
       "    </tr>\n",
       "    <tr>\n",
       "      <th>409</th>\n",
       "      <td>ea6416ba848c</td>\n",
       "      <td>[Thank you, Mr. President., You know, my colle...</td>\n",
       "    </tr>\n",
       "    <tr>\n",
       "      <th>410</th>\n",
       "      <td>d32da631854f</td>\n",
       "      <td>[This meeting will come to order, this council...</td>\n",
       "    </tr>\n",
       "    <tr>\n",
       "      <th>411</th>\n",
       "      <td>aeb4ca3154ba</td>\n",
       "      <td>[Sally Peltz?, Here., Nicholas Hans Robinson?,...</td>\n",
       "    </tr>\n",
       "  </tbody>\n",
       "</table>\n",
       "<p>412 rows × 2 columns</p>\n",
       "</div>"
      ],
      "text/plain": [
       "    transcript_id                                          sentences\n",
       "0    d0a7e5864959  [And older woman Jocasta Zamarripa., Shortly, ...\n",
       "1    e9a7a8ac9081  [Meeting., My name is Cavalier Johnson., I'm c...\n",
       "2    694b0e5b01a7  [Joining you this morning is Vice Chair Alderm...\n",
       "3    ad734a167e5a  [Our first meeting of 2020, the Judiciary and ...\n",
       "4    fe845b99f32e  [Alderman Hamilton., Here., Kovach., Here., Ba...\n",
       "..            ...                                                ...\n",
       "407  468bb3242311  [Commission for Tuesday September 1st 2020 at ...\n",
       "408  16327f867c7e  [Our 2021 meeting of the Fire and Police Commi...\n",
       "409  ea6416ba848c  [Thank you, Mr. President., You know, my colle...\n",
       "410  d32da631854f  [This meeting will come to order, this council...\n",
       "411  aeb4ca3154ba  [Sally Peltz?, Here., Nicholas Hans Robinson?,...\n",
       "\n",
       "[412 rows x 2 columns]"
      ]
     },
     "execution_count": 24,
     "metadata": {},
     "output_type": "execute_result"
    }
   ],
   "source": [
    "t_cd #instead of transcripts\n",
    "\n"
   ]
  },
  {
   "cell_type": "code",
   "execution_count": null,
   "id": "813ca59b",
   "metadata": {},
   "outputs": [],
   "source": []
  },
  {
   "cell_type": "code",
   "execution_count": null,
   "id": "77d4b628",
   "metadata": {},
   "outputs": [],
   "source": [
    "new_algorithm = types.BERTSegmentation(\n",
    "    sentence_comparison_window=50,\n",
    "    text_tiling=types.NewSegmentation(\n",
    "        stdevs=1))\n",
    "\n",
    "new_algorithm"
   ]
  },
  {
   "cell_type": "code",
   "execution_count": 27,
   "id": "5fa9053f",
   "metadata": {},
   "outputs": [
    {
     "data": {
      "text/html": [
       "<div>\n",
       "<style scoped>\n",
       "    .dataframe tbody tr th:only-of-type {\n",
       "        vertical-align: middle;\n",
       "    }\n",
       "\n",
       "    .dataframe tbody tr th {\n",
       "        vertical-align: top;\n",
       "    }\n",
       "\n",
       "    .dataframe thead th {\n",
       "        text-align: right;\n",
       "    }\n",
       "</style>\n",
       "<table border=\"1\" class=\"dataframe\">\n",
       "  <thead>\n",
       "    <tr style=\"text-align: right;\">\n",
       "      <th></th>\n",
       "      <th>index</th>\n",
       "      <th>meeting_id</th>\n",
       "      <th>start_time</th>\n",
       "      <th>end_time</th>\n",
       "      <th>caption</th>\n",
       "    </tr>\n",
       "  </thead>\n",
       "  <tbody>\n",
       "    <tr>\n",
       "      <th>0</th>\n",
       "      <td>0</td>\n",
       "      <td>d0a7e5864959</td>\n",
       "      <td>0</td>\n",
       "      <td>5</td>\n",
       "      <td>And older woman Jocasta Zamarripa</td>\n",
       "    </tr>\n",
       "    <tr>\n",
       "      <th>1</th>\n",
       "      <td>1</td>\n",
       "      <td>d0a7e5864959</td>\n",
       "      <td>5</td>\n",
       "      <td>15</td>\n",
       "      <td>Shortly, Alderman Rainey and Alderman Hamilton...</td>\n",
       "    </tr>\n",
       "    <tr>\n",
       "      <th>2</th>\n",
       "      <td>2</td>\n",
       "      <td>d0a7e5864959</td>\n",
       "      <td>15</td>\n",
       "      <td>19</td>\n",
       "      <td>So let's get started</td>\n",
       "    </tr>\n",
       "    <tr>\n",
       "      <th>3</th>\n",
       "      <td>3</td>\n",
       "      <td>d0a7e5864959</td>\n",
       "      <td>19</td>\n",
       "      <td>36</td>\n",
       "      <td>Item nber 211814, reappointment of Brian Rott ...</td>\n",
       "    </tr>\n",
       "    <tr>\n",
       "      <th>4</th>\n",
       "      <td>4</td>\n",
       "      <td>d0a7e5864959</td>\n",
       "      <td>36</td>\n",
       "      <td>42</td>\n",
       "      <td>Brian Rott, I see you</td>\n",
       "    </tr>\n",
       "    <tr>\n",
       "      <th>...</th>\n",
       "      <td>...</td>\n",
       "      <td>...</td>\n",
       "      <td>...</td>\n",
       "      <td>...</td>\n",
       "      <td>...</td>\n",
       "    </tr>\n",
       "    <tr>\n",
       "      <th>483</th>\n",
       "      <td>454</td>\n",
       "      <td>d0a7e5864959</td>\n",
       "      <td>4342</td>\n",
       "      <td>4349</td>\n",
       "      <td>And that concludes our committee meeting today</td>\n",
       "    </tr>\n",
       "    <tr>\n",
       "      <th>484</th>\n",
       "      <td>455</td>\n",
       "      <td>d0a7e5864959</td>\n",
       "      <td>4349</td>\n",
       "      <td>4351</td>\n",
       "      <td>Thank you</td>\n",
       "    </tr>\n",
       "    <tr>\n",
       "      <th>485</th>\n",
       "      <td>456</td>\n",
       "      <td>d0a7e5864959</td>\n",
       "      <td>4351</td>\n",
       "      <td>4357</td>\n",
       "      <td>See you all in the community</td>\n",
       "    </tr>\n",
       "    <tr>\n",
       "      <th>486</th>\n",
       "      <td>457</td>\n",
       "      <td>d0a7e5864959</td>\n",
       "      <td>4357</td>\n",
       "      <td>4360</td>\n",
       "      <td>Thanks to additionally</td>\n",
       "    </tr>\n",
       "    <tr>\n",
       "      <th>487</th>\n",
       "      <td>458</td>\n",
       "      <td>d0a7e5864959</td>\n",
       "      <td>4360</td>\n",
       "      <td>4362</td>\n",
       "      <td>Thank you</td>\n",
       "    </tr>\n",
       "  </tbody>\n",
       "</table>\n",
       "<p>488 rows × 5 columns</p>\n",
       "</div>"
      ],
      "text/plain": [
       "     index    meeting_id  start_time  end_time  \\\n",
       "0        0  d0a7e5864959           0         5   \n",
       "1        1  d0a7e5864959           5        15   \n",
       "2        2  d0a7e5864959          15        19   \n",
       "3        3  d0a7e5864959          19        36   \n",
       "4        4  d0a7e5864959          36        42   \n",
       "..     ...           ...         ...       ...   \n",
       "483    454  d0a7e5864959        4342      4349   \n",
       "484    455  d0a7e5864959        4349      4351   \n",
       "485    456  d0a7e5864959        4351      4357   \n",
       "486    457  d0a7e5864959        4357      4360   \n",
       "487    458  d0a7e5864959        4360      4362   \n",
       "\n",
       "                                               caption  \n",
       "0                    And older woman Jocasta Zamarripa  \n",
       "1    Shortly, Alderman Rainey and Alderman Hamilton...  \n",
       "2                                 So let's get started  \n",
       "3    Item nber 211814, reappointment of Brian Rott ...  \n",
       "4                                Brian Rott, I see you  \n",
       "..                                                 ...  \n",
       "483     And that concludes our committee meeting today  \n",
       "484                                          Thank you  \n",
       "485                       See you all in the community  \n",
       "486                             Thanks to additionally  \n",
       "487                                          Thank you  \n",
       "\n",
       "[488 rows x 5 columns]"
      ]
     },
     "execution_count": 27,
     "metadata": {},
     "output_type": "execute_result"
    }
   ],
   "source": [
    "test_data = pd.DataFrame(data={'meeting_id':t_cd.iloc[0]['transcript_id'],'caption':t_cd.iloc[0]['sentences']})\n",
    "\n",
    "#test_data = pd.DataFrame(data={'meeting_id':'d0a7e5864959','caption':t_cd['d0a7e5864959']})\n",
    "test_data = dataset.add_durations(test_data)  # \"duration\" column is just number of words\n",
    "test_data = dataset.preprocessing(test_data,min_caption_len=5)  # note that this adds (old) `index` column, but topic_segmentation uses actual index\n",
    "test_data"
   ]
  },
  {
   "cell_type": "code",
   "execution_count": null,
   "id": "e9919d94",
   "metadata": {},
   "outputs": [],
   "source": []
  },
  {
   "attachments": {},
   "cell_type": "markdown",
   "id": "6bc8ca9a",
   "metadata": {},
   "source": [
    "Rerun the core code"
   ]
  },
  {
   "cell_type": "code",
   "execution_count": 35,
   "id": "825e92a9",
   "metadata": {},
   "outputs": [],
   "source": [
    "df = test_data\n",
    "meeting_id_col_name = 'meeting_id'\n",
    "start_col_name = 'start_time'\n",
    "end_col_name = 'end_time'\n",
    "caption_col_name = 'caption'\n",
    "\n",
    "new_algorithm = types.BERTSegmentation(\n",
    "    sentence_comparison_window=50,\n",
    "    text_tiling=types.NewSegmentation(\n",
    "        stdevs=1))\n",
    "\n",
    "topic_segmentation_configs = new_algorithm\n",
    "\n"
   ]
  },
  {
   "cell_type": "code",
   "execution_count": 37,
   "id": "f981b2fb",
   "metadata": {},
   "outputs": [],
   "source": [
    "PARALLEL_INFERENCE_INSTANCES = 20\n",
    "\n",
    "# parallel inference\n",
    "batches_features = []\n",
    "for batch_sentences in core.split_list(\n",
    "    df[caption_col_name], PARALLEL_INFERENCE_INSTANCES\n",
    "): # splits into sequential batches such that total number of batches equals INSTANCES value\n",
    "    batches_features.append(core.get_features_from_sentence(batch_sentences)) # list of tensors of size (1,768), one for each sentence\n",
    "features = core.flatten_features(batches_features)   # changes back to list of length 768 tensors, one for each sentence in dataset\n"
   ]
  },
  {
   "cell_type": "code",
   "execution_count": 44,
   "id": "ef4ddfb8",
   "metadata": {},
   "outputs": [
    {
     "data": {
      "text/plain": [
       "torch.Size([1, 768])"
      ]
     },
     "execution_count": 44,
     "metadata": {},
     "output_type": "execute_result"
    }
   ],
   "source": [
    "len(features)\n",
    "len(test_data)\n",
    "\n",
    "features[0].shape"
   ]
  },
  {
   "cell_type": "code",
   "execution_count": 46,
   "id": "19393ac3",
   "metadata": {},
   "outputs": [
    {
     "data": {
      "text/plain": [
       "20"
      ]
     },
     "execution_count": 46,
     "metadata": {},
     "output_type": "execute_result"
    }
   ],
   "source": [
    "len(batches_features)"
   ]
  }
 ],
 "metadata": {
  "kernelspec": {
   "display_name": "Python 3 (ipykernel)",
   "language": "python",
   "name": "python3"
  },
  "language_info": {
   "codemirror_mode": {
    "name": "ipython",
    "version": 3
   },
   "file_extension": ".py",
   "mimetype": "text/x-python",
   "name": "python",
   "nbconvert_exporter": "python",
   "pygments_lexer": "ipython3",
   "version": "3.10.6"
  }
 },
 "nbformat": 4,
 "nbformat_minor": 5
}
