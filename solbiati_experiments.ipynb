{
 "cells": [
  {
   "cell_type": "code",
   "execution_count": 1,
   "metadata": {},
   "outputs": [],
   "source": [
    "from unsupervised_topic_segmentation import core, eval, types\n",
    "import pandas as pd\n",
    "import numpy as np\n",
    "import pickle"
   ]
  },
  {
   "cell_type": "code",
   "execution_count": 3,
   "metadata": {},
   "outputs": [],
   "source": [
    "# read transcripts.pickle\n",
    "with open('transcripts.pickle', 'rb') as handle:\n",
    "    transcripts = pickle.load(handle)"
   ]
  },
  {
   "attachments": {},
   "cell_type": "markdown",
   "metadata": {},
   "source": [
    "Options:\n",
    "- datasets: `types.TopicSegmentationDatasets.AMI`, `types.TopicSegmentationDatasets.ICSI` _(need to download and implement in unsupervised_topic_segmentation/dataset.py)_\n",
    "- algorithms: `types.TopicSegmentationAlgorithm.BERT`, `types.TopicSegmentationAlgorithm.RANDOM`, `types.TopicSegmentationAlgorithm.EVEN`\n",
    "- config: `types.TopicSegmentationConfig` _(edit in unsupervised_topic_segmentation/types.py)_"
   ]
  },
  {
   "attachments": {},
   "cell_type": "markdown",
   "metadata": {},
   "source": [
    "Hyperparams to consider:\n",
    "- `PARALLEL_INFERENCE_INSTANCES = 20` in `core.py`: infer multiple meetings at once\n",
    "- `MAX_SEGMENTS_CAP` in `TopicSegmentationConfig`: True or False, default True. \"Add a max segment limit so there are not too many segments\"; in this implementation, \"local maxima are sorted by depth_score value and we take only the first K where the K+1th local maxima is lower then the threshold\". False \"is the vanilla TextTiling used for Pk optimization\". \n",
    "- `MAX_SEGMENTS_CAP__AVERAGE_SEGMENT_LENGTH` in `TopicSegmentationConfig`: used as cap if above is True, int default 60. This was originally supposed to be in seconds (see explanation below).\n",
    "- `TEXT_TILING` in `TopicSegmentationConfig`: additional tiling hyperparams. Set to `types.TextTilingHyperparameters` with below additional hyperparams, otherwise defaults to None (which throws error).\n",
    "\n",
    "Additional hyperparams in `TextTilingHyperparameters`:\n",
    "- `SENTENCE_COMPARISON_WINDOW`: int default 15. Number of sentences in each non-overlapping window to consider as chunk.\n",
    "- `SMOOTHING_PASSES` int default 2. Number of smoothing iterations on similarity scores.\n",
    "- `SMOOTHING_WINDOW`: int default 1. Neighborhood considered in smoothing similarity scores (unit is chunks).\n",
    "- `TOPIC_CHANGE_THRESHOLD`: float default 0.6."
   ]
  },
  {
   "attachments": {},
   "cell_type": "markdown",
   "metadata": {},
   "source": [
    "Note: the meeting duration is used in the original code in the following way, when `MAX_SEGMENTS_CAP` is True: The total meeting duration for each meeting is divided by `MAX_SEGMENTS_CAP_AVERAGE_SEGMENT_LENGTH` to determine the number of max segments."
   ]
  },
  {
   "cell_type": "code",
   "execution_count": 6,
   "metadata": {},
   "outputs": [
    {
     "data": {
      "text/plain": [
       "TopicSegmentationConfig(TEXT_TILING=TextTilingHyperparameters(SENTENCE_COMPARISON_WINDOW=15, SMOOTHING_PASSES=2, SMOOTHING_WINDOW=1, TOPIC_CHANGE_THRESHOLD=0.6), MAX_SEGMENTS_CAP=True, MAX_SEGMENTS_CAP__AVERAGE_SEGMENT_LENGTH=60)"
      ]
     },
     "execution_count": 6,
     "metadata": {},
     "output_type": "execute_result"
    }
   ],
   "source": [
    "config = types.TopicSegmentationConfig(\n",
    "    text_tiling=types.TextTilingHyperparameters(\n",
    "        sentence_comparison_window=15,\n",
    "        smoothing_passes=2,\n",
    "        smoothing_window=1,\n",
    "        topic_change_threshold=0.6),\n",
    "    max_segments_cap=True,\n",
    "    max_segments_cap__average_segment_length=60)\n",
    "config"
   ]
  },
  {
   "attachments": {},
   "cell_type": "markdown",
   "metadata": {},
   "source": [
    "Just to run inference (no eval), use `core.topic_segmentation` with arguments:\n",
    "- `topic_segmentation_algorithm`: choose from above\n",
    "- `df`: transcript pandas dataframe with columns below\n",
    "- `meeting_id_col_name`: str for col of meetings to produce splits within\n",
    "- `start_col_name`: str for col with start time of caption (barely used, could cut)\n",
    "- `end_col_name`: str for col with end time of caption (barely used, could cut)\n",
    "- `caption_col_name`: str for col of sentence strings\n",
    "- `topic_segmentation_config` = TopicSegmentationConfig object (see above)"
   ]
  }
 ],
 "metadata": {
  "kernelspec": {
   "display_name": "councildata",
   "language": "python",
   "name": "python3"
  },
  "language_info": {
   "codemirror_mode": {
    "name": "ipython",
    "version": 3
   },
   "file_extension": ".py",
   "mimetype": "text/x-python",
   "name": "python",
   "nbconvert_exporter": "python",
   "pygments_lexer": "ipython3",
   "version": "3.10.11"
  },
  "orig_nbformat": 4
 },
 "nbformat": 4,
 "nbformat_minor": 2
}
