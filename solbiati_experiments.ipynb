{
 "cells": [
  {
   "cell_type": "code",
   "execution_count": 3,
   "metadata": {},
   "outputs": [],
   "source": [
    "from unsupervised_topic_segmentation import core, eval, types\n",
    "import pandas as pd\n",
    "import numpy as np\n",
    "import pickle"
   ]
  },
  {
   "cell_type": "code",
   "execution_count": 3,
   "metadata": {},
   "outputs": [],
   "source": [
    "# read transcripts.pickle\n",
    "with open('transcripts.pickle', 'rb') as handle:\n",
    "    transcripts = pickle.load(handle)"
   ]
  },
  {
   "attachments": {},
   "cell_type": "markdown",
   "metadata": {},
   "source": [
    "Options:\n",
    "- datasets: `types.TopicSegmentationDatasets.AMI`, `types.TopicSegmentationDatasets.ICSI` _(need to download and implement in unsupervised_topic_segmentation/dataset.py)_\n",
    "- algorithms: `types.TopicSegmentationAlgorithm.BERT`, `types.TopicSegmentationAlgorithm.RANDOM`, `types.TopicSegmentationAlgorithm.EVEN`\n",
    "- config: `types.TopicSegmentationConfig` _(edit in unsupervised_topic_segmentation/types.py)_"
   ]
  },
  {
   "cell_type": "code",
   "execution_count": 10,
   "metadata": {},
   "outputs": [
    {
     "ename": "AttributeError",
     "evalue": "can't set attribute",
     "output_type": "error",
     "traceback": [
      "\u001b[0;31m---------------------------------------------------------------------------\u001b[0m",
      "\u001b[0;31mAttributeError\u001b[0m                            Traceback (most recent call last)",
      "Cell \u001b[0;32mIn[10], line 3\u001b[0m\n\u001b[1;32m      1\u001b[0m config \u001b[39m=\u001b[39m types\u001b[39m.\u001b[39mTopicSegmentationConfig()\n\u001b[1;32m      2\u001b[0m test \u001b[39m=\u001b[39m types\u001b[39m.\u001b[39mTextTilingHyperparameters()\n\u001b[0;32m----> 3\u001b[0m config\u001b[39m.\u001b[39;49mTEXT_TILING \u001b[39m=\u001b[39m test\n\u001b[1;32m      4\u001b[0m config\n",
      "\u001b[0;31mAttributeError\u001b[0m: can't set attribute"
     ]
    }
   ],
   "source": [
    "config = types.TopicSegmentationConfig()\n",
    "config.TEXT_TILING = test\n",
    "config"
   ]
  },
  {
   "attachments": {},
   "cell_type": "markdown",
   "metadata": {},
   "source": [
    "Hyperparams to consider:\n",
    "- `PARALLEL_INFERENCE_INSTANCES = 20` in `core.py`: infer multiple meetings at once\n",
    "- `MAX_SEGMENTS_CAP` in `TopicSegmentationConfig`: True or False, default True. \"Add a max segment limit so there are not too many segments\"; in this implementation, \"local maxima are sorted by depth_score value and we take only the first K where the K+1th local maxima is lower then the threshold\". False \"is the vanilla TextTiling used for Pk optimization\". \n",
    "- `MAX_SEGMENTS_CAP__AVERAGE_SEGMENT_LENGTH` in `TopicSegmentationConfig`: used as cap if above is True, int default 60.\n",
    "- `TEXT_TILING` in `TopicSegmentationConfig`: additional tiling hyperparams. Set to `types.TextTilingHyperparameters` with below additional options, otherwise defaults to None (which throws error).\n",
    "\n",
    "Additional options in `TextTilingHyperparameters`:\n",
    "- `SENTENCE_COMPARISON_WINDOW`: int default 15. Number of sentences in each non-overlapping window to consider as chunk.\n",
    "- `SMOOTHING_PASSES` int default 2. Number of smoothing iterations on similarity scores.\n",
    "- `SMOOTHING_WINDOW`: int default 1. Neighborhood considered in smoothing similarity scores (unit is chunks).\n",
    "- `TOPIC_CHANGE_THRESHOLD`: float default 0.6."
   ]
  },
  {
   "cell_type": "code",
   "execution_count": 4,
   "metadata": {},
   "outputs": [
    {
     "ename": "NameError",
     "evalue": "name 'input_df' is not defined",
     "output_type": "error",
     "traceback": [
      "\u001b[0;31m---------------------------------------------------------------------------\u001b[0m",
      "\u001b[0;31mNameError\u001b[0m                                 Traceback (most recent call last)",
      "Cell \u001b[0;32mIn[4], line 1\u001b[0m\n\u001b[0;32m----> 1\u001b[0m \u001b[39meval\u001b[39;49m\u001b[39m.\u001b[39;49meval_topic_segmentation(\n\u001b[1;32m      2\u001b[0m     types\u001b[39m.\u001b[39;49mTopicSegmentationDatasets\u001b[39m.\u001b[39;49mAMI,\n\u001b[1;32m      3\u001b[0m     types\u001b[39m.\u001b[39;49mTopicSegmentationAlgorithm\u001b[39m.\u001b[39;49mBERT,\n\u001b[1;32m      4\u001b[0m     types\u001b[39m.\u001b[39;49mTopicSegmentationConfig(),\n\u001b[1;32m      5\u001b[0m )\n",
      "File \u001b[0;32m~/Desktop/CS/decoding-democracy/unsupervised_topic_segmentation/eval.py:203\u001b[0m, in \u001b[0;36meval_topic_segmentation\u001b[0;34m(dataset_name, topic_segmentation_algorithm, topic_segmentation_config)\u001b[0m\n\u001b[1;32m    196\u001b[0m \u001b[39mdef\u001b[39;00m \u001b[39meval_topic_segmentation\u001b[39m(\n\u001b[1;32m    197\u001b[0m     dataset_name: TopicSegmentationDatasets,\n\u001b[1;32m    198\u001b[0m     topic_segmentation_algorithm: TopicSegmentationAlgorithm,\n\u001b[1;32m    199\u001b[0m     topic_segmentation_config: TopicSegmentationConfig,\n\u001b[1;32m    200\u001b[0m ) \u001b[39m-\u001b[39m\u001b[39m>\u001b[39m Dict[\u001b[39mstr\u001b[39m, \u001b[39mfloat\u001b[39m]:\n\u001b[1;32m    202\u001b[0m     \u001b[39mif\u001b[39;00m dataset_name \u001b[39m==\u001b[39m TopicSegmentationDatasets\u001b[39m.\u001b[39mAMI:\n\u001b[0;32m--> 203\u001b[0m         input_df, label_df \u001b[39m=\u001b[39m ami_dataset()\n\u001b[1;32m    204\u001b[0m     \u001b[39melif\u001b[39;00m dataset_name \u001b[39m==\u001b[39m TopicSegmentationDatasets\u001b[39m.\u001b[39mICSI:\n\u001b[1;32m    205\u001b[0m         input_df, label_df \u001b[39m=\u001b[39m icsi_dataset()\n",
      "File \u001b[0;32m~/Desktop/CS/decoding-democracy/unsupervised_topic_segmentation/dataset.py:74\u001b[0m, in \u001b[0;36mami_dataset\u001b[0;34m()\u001b[0m\n\u001b[1;32m     54\u001b[0m \u001b[39mdef\u001b[39;00m \u001b[39mami_dataset\u001b[39m():\n\u001b[1;32m     55\u001b[0m \u001b[39m    \u001b[39m\u001b[39m\"\"\"See XXXX for label generation and XXXX for input analysis\u001b[39;00m\n\u001b[1;32m     56\u001b[0m \n\u001b[1;32m     57\u001b[0m \u001b[39m            SELECT\u001b[39;00m\n\u001b[0;32m   (...)\u001b[0m\n\u001b[1;32m     72\u001b[0m \u001b[39m            WHERE ds = '2021-01-10'\u001b[39;00m\n\u001b[1;32m     73\u001b[0m \u001b[39m    \"\"\"\u001b[39;00m\n\u001b[0;32m---> 74\u001b[0m     \u001b[39mreturn\u001b[39;00m input_df, label_df\n",
      "\u001b[0;31mNameError\u001b[0m: name 'input_df' is not defined"
     ]
    }
   ],
   "source": [
    "\"\"\"\n",
    "Just to run inference (no eval), use core.topic_segmentation with arguments:\n",
    "    topic_segmentation_algorithm: choose from above\n",
    "    df: transcript pandas dataframe\n",
    "    meeting_id_col_name: str for col of meetings to produce splits within\n",
    "    start_col_name: str for col with start time of caption (barely used, could cut)\n",
    "    end_col_name: str for col with end time of caption (barely used, could cut)\n",
    "    caption_col_name: str for col of sentence strings\n",
    "    topic_segmentation_config = TopicSegmentationConfig object (see above)\n",
    "\"\"\"\n"
   ]
  }
 ],
 "metadata": {
  "kernelspec": {
   "display_name": "councildata",
   "language": "python",
   "name": "python3"
  },
  "language_info": {
   "codemirror_mode": {
    "name": "ipython",
    "version": 3
   },
   "file_extension": ".py",
   "mimetype": "text/x-python",
   "name": "python",
   "nbconvert_exporter": "python",
   "pygments_lexer": "ipython3",
   "version": "3.10.11"
  },
  "orig_nbformat": 4
 },
 "nbformat": 4,
 "nbformat_minor": 2
}
