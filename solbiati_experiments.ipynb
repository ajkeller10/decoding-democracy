{
 "cells": [
  {
   "cell_type": "code",
   "execution_count": 2,
   "metadata": {},
   "outputs": [],
   "source": [
    "from unsupervised_topic_segmentation import core, eval\n",
    "import pandas as pd\n",
    "import numpy as np\n",
    "import pickle"
   ]
  },
  {
   "cell_type": "code",
   "execution_count": 3,
   "metadata": {},
   "outputs": [],
   "source": [
    "# read transcripts.pickle\n",
    "with open('transcripts.pickle', 'rb') as handle:\n",
    "    transcripts = pickle.load(handle)"
   ]
  },
  {
   "cell_type": "code",
   "execution_count": null,
   "metadata": {},
   "outputs": [],
   "source": [
    "# options:\n",
    "# core.TopicSegmentationDatasets.AMI, core.TopicSegmentationDatasets.ICSI\n",
    "# core.TopicSegmentationAlgorithm.BERT, core.TopicSegmentationAlgorithm.RANDOM, core.TopicSegmentationAlgorithm.EVEN\n",
    "# core.TopicSegmentationConfig [edit in unsupervised_topic_segmentation/types.py]"
   ]
  }
 ],
 "metadata": {
  "kernelspec": {
   "display_name": "councildata",
   "language": "python",
   "name": "python3"
  },
  "language_info": {
   "codemirror_mode": {
    "name": "ipython",
    "version": 3
   },
   "file_extension": ".py",
   "mimetype": "text/x-python",
   "name": "python",
   "nbconvert_exporter": "python",
   "pygments_lexer": "ipython3",
   "version": "3.10.11"
  },
  "orig_nbformat": 4
 },
 "nbformat": 4,
 "nbformat_minor": 2
}
