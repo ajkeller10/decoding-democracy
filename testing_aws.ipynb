{
 "cells": [
  {
   "cell_type": "code",
   "execution_count": 2,
   "id": "15603d91",
   "metadata": {},
   "outputs": [],
   "source": [
    "import json\n",
    "import os\n",
    "import pandas as pd\n",
    "import boto3\n",
    "\n",
    "import torch\n",
    "import create_test_data\n"
   ]
  },
  {
   "attachments": {},
   "cell_type": "markdown",
   "id": "ebcacfdf",
   "metadata": {},
   "source": [
    "had to downgrade conda to python=3.9 like:\n",
    "conda create -n myenv python=3.9"
   ]
  },
  {
   "cell_type": "code",
   "execution_count": 3,
   "id": "237ceab4",
   "metadata": {},
   "outputs": [],
   "source": [
    "t_cd = create_test_data.transcript_pickle_to_pd()"
   ]
  },
  {
   "attachments": {},
   "cell_type": "markdown",
   "id": "b69a3bc9",
   "metadata": {},
   "source": [
    "# Testing Embedding"
   ]
  },
  {
   "cell_type": "code",
   "execution_count": 7,
   "id": "8f431ecd",
   "metadata": {},
   "outputs": [
    {
     "data": {
      "text/html": [
       "<div>\n",
       "<style scoped>\n",
       "    .dataframe tbody tr th:only-of-type {\n",
       "        vertical-align: middle;\n",
       "    }\n",
       "\n",
       "    .dataframe tbody tr th {\n",
       "        vertical-align: top;\n",
       "    }\n",
       "\n",
       "    .dataframe thead th {\n",
       "        text-align: right;\n",
       "    }\n",
       "</style>\n",
       "<table border=\"1\" class=\"dataframe\">\n",
       "  <thead>\n",
       "    <tr style=\"text-align: right;\">\n",
       "      <th></th>\n",
       "      <th>transcript_id</th>\n",
       "      <th>sentences</th>\n",
       "    </tr>\n",
       "  </thead>\n",
       "  <tbody>\n",
       "    <tr>\n",
       "      <th>0</th>\n",
       "      <td>d0a7e5864959</td>\n",
       "      <td>[And older woman Jocasta Zamarripa., Shortly, ...</td>\n",
       "    </tr>\n",
       "    <tr>\n",
       "      <th>1</th>\n",
       "      <td>e9a7a8ac9081</td>\n",
       "      <td>[Meeting., My name is Cavalier Johnson., I'm c...</td>\n",
       "    </tr>\n",
       "    <tr>\n",
       "      <th>2</th>\n",
       "      <td>694b0e5b01a7</td>\n",
       "      <td>[Joining you this morning is Vice Chair Alderm...</td>\n",
       "    </tr>\n",
       "    <tr>\n",
       "      <th>3</th>\n",
       "      <td>ad734a167e5a</td>\n",
       "      <td>[Our first meeting of 2020, the Judiciary and ...</td>\n",
       "    </tr>\n",
       "    <tr>\n",
       "      <th>4</th>\n",
       "      <td>fe845b99f32e</td>\n",
       "      <td>[Alderman Hamilton., Here., Kovach., Here., Ba...</td>\n",
       "    </tr>\n",
       "  </tbody>\n",
       "</table>\n",
       "</div>"
      ],
      "text/plain": [
       "  transcript_id                                          sentences\n",
       "0  d0a7e5864959  [And older woman Jocasta Zamarripa., Shortly, ...\n",
       "1  e9a7a8ac9081  [Meeting., My name is Cavalier Johnson., I'm c...\n",
       "2  694b0e5b01a7  [Joining you this morning is Vice Chair Alderm...\n",
       "3  ad734a167e5a  [Our first meeting of 2020, the Judiciary and ...\n",
       "4  fe845b99f32e  [Alderman Hamilton., Here., Kovach., Here., Ba..."
      ]
     },
     "execution_count": 7,
     "metadata": {},
     "output_type": "execute_result"
    }
   ],
   "source": [
    "t_cd = create_test_data.transcript_pickle_to_pd()\n",
    "t_cd_small=t_cd[0:5]\n",
    "t_cd_small"
   ]
  },
  {
   "cell_type": "code",
   "execution_count": 4,
   "id": "a5f56329",
   "metadata": {},
   "outputs": [
    {
     "name": "stdout",
     "output_type": "stream",
     "text": [
      "README.md                       environment.yml\n",
      "\u001b[0m\u001b[01;34m__pycache__\u001b[0m/                    environment_op.yml\n",
      "\u001b[01;34mami-and-icsi-corpora-master\u001b[0m/    lambda_function.py\n",
      "ami_isci_json_loading.ipynb     solbiati_experiments.ipynb\n",
      "ami_isci_json_loading_v2.ipynb  t_cd_small.csv\n",
      "aws_instructions.txt            test_data_create.ipynb\n",
      "batch_function.py               testing.ipynb\n",
      "create_test_data.py             testing_aws.ipynb\n",
      "data_for_s3.pickle              transcript_42.csv\n",
      "data_to_s3.py                   transcripts.pickle\n",
      "download_data.ipynb             \u001b[01;34munsupervised_topic_segmentation\u001b[0m/\n"
     ]
    }
   ],
   "source": [
    "%ls"
   ]
  },
  {
   "attachments": {},
   "cell_type": "markdown",
   "id": "3f144f84",
   "metadata": {},
   "source": [
    "## Save Data to S3"
   ]
  },
  {
   "attachments": {},
   "cell_type": "markdown",
   "id": "be82d0f6",
   "metadata": {},
   "source": [
    "## Create Lambda Function"
   ]
  },
  {
   "cell_type": "code",
   "execution_count": 4,
   "id": "9d62abbc",
   "metadata": {},
   "outputs": [],
   "source": [
    "aws_lambda = boto3.client('lambda')\n",
    "iam_client = boto3.client('iam')\n",
    "role = iam_client.get_role(RoleName='LabRole')"
   ]
  },
  {
   "cell_type": "code",
   "execution_count": 12,
   "id": "b4aecde9",
   "metadata": {},
   "outputs": [
    {
     "name": "stdout",
     "output_type": "stream",
     "text": [
      "arn:aws:lambda:us-east-1:727739772368:function:embed_lambda\n"
     ]
    }
   ],
   "source": [
    "with open('embed_lambda.zip', 'rb') as f:\n",
    "    lambda_zip = f.read()\n",
    "\n",
    "try:\n",
    "    # If function hasn't yet been created, create it\n",
    "    response = aws_lambda.create_function(\n",
    "        FunctionName='embed_lambda',\n",
    "        Runtime='python3.9',\n",
    "        Role=role['Role']['Arn'],\n",
    "        Handler='lambda_function.lambda_handler',\n",
    "        Code=dict(ZipFile=lambda_zip),\n",
    "        Timeout=300\n",
    "    )\n",
    "except aws_lambda.exceptions.ResourceConflictException:\n",
    "    # If function already exists, update it based on zip\n",
    "    # file contents\n",
    "    response = aws_lambda.update_function_code(\n",
    "        FunctionName='embed_lambda',\n",
    "        ZipFile=lambda_zip\n",
    "        )\n",
    "\n",
    "lambda_arn = response['FunctionArn']\n",
    "print(lambda_arn)"
   ]
  },
  {
   "cell_type": "code",
   "execution_count": 8,
   "id": "2b68b4ad",
   "metadata": {},
   "outputs": [
    {
     "data": {
      "text/plain": [
       "'And older woman Jocasta Zamarripa.'"
      ]
     },
     "execution_count": 8,
     "metadata": {},
     "output_type": "execute_result"
    }
   ],
   "source": [
    "list(t_cd_small['sentences'])[0][0]"
   ]
  },
  {
   "cell_type": "code",
   "execution_count": 9,
   "id": "53c72207",
   "metadata": {},
   "outputs": [
    {
     "name": "stdout",
     "output_type": "stream",
     "text": [
      "{'errorMessage': \"Unable to import module 'lambda_function': No module named 'torch'\", 'errorType': 'Runtime.ImportModuleError', 'requestId': '303338f6-bd9b-4ec0-8326-e146fc39e4d3', 'stackTrace': []}\n"
     ]
    }
   ],
   "source": [
    "\n",
    "r = aws_lambda.invoke(FunctionName='embed_lambda', #replace with name of the function\n",
    "                    InvocationType='RequestResponse',\n",
    "                    Payload=json.dumps(list(t_cd_small['sentences'])))\n",
    "response=json.loads(r['Payload'].read()) # print out response\n",
    "print(response)\n",
    "    \n",
    "\n",
    "    "
   ]
  },
  {
   "cell_type": "code",
   "execution_count": 10,
   "id": "3bca0ced",
   "metadata": {},
   "outputs": [
    {
     "name": "stdout",
     "output_type": "stream",
     "text": [
      "3.10.6\n"
     ]
    }
   ],
   "source": [
    "from platform import python_version\n",
    "print(python_version())"
   ]
  },
  {
   "attachments": {},
   "cell_type": "markdown",
   "id": "1dc5650a",
   "metadata": {},
   "source": [
    "{'errorMessage': \"Unable to import module 'lambda_function': No module named 'torch'\", 'errorType': 'Runtime.ImportModuleError', 'requestId': '0cdaaaf8-9694-46c5-8cd2-be0604e9f6dd', 'stackTrace': []}"
   ]
  },
  {
   "attachments": {},
   "cell_type": "markdown",
   "id": "4aeaad09",
   "metadata": {},
   "source": [
    "change lamda\n",
    "take list of lists \n",
    "and return list of lists\n"
   ]
  },
  {
   "attachments": {},
   "cell_type": "markdown",
   "id": "91d74664",
   "metadata": {},
   "source": [
    "## Create Queue"
   ]
  },
  {
   "cell_type": "code",
   "execution_count": 28,
   "id": "121e45d6",
   "metadata": {},
   "outputs": [],
   "source": [
    "# Create a batch client\n",
    "batch = boto3.client('batch')\n",
    "\n",
    "# Define the input and output S3 bucket and file paths\n",
    "input_bucket = 'decoding-democracy-embded'\n",
    "input_key = 'unembedded.csv'\n",
    "output_bucket = 'decoding-democracy-embded'\n",
    "output_key = 'embedded.csv'\n",
    "\n",
    "# Define the event payload\n",
    "event = {\n",
    "    'input_bucket': input_bucket,\n",
    "    'input_key': input_key,\n",
    "    'output_bucket': output_bucket,\n",
    "    'output_key': output_key\n",
    "}\n",
    "\n",
    "# Define the job definition\n",
    "job_definition = 'decoding-democracy-env'\n",
    "\n",
    "# Define the job name\n",
    "job_name = 'decoding_democracy_job'\n",
    "\n",
    "# Define the job queue\n",
    "job_queue = 'decoding-democracy-queue'"
   ]
  },
  {
   "cell_type": "code",
   "execution_count": 29,
   "id": "a6733134",
   "metadata": {},
   "outputs": [
    {
     "name": "stdout",
     "output_type": "stream",
     "text": [
      "Submitted batch job: 8ffabaaa-eaaa-4538-8a1b-2de1d7c7cb95\n"
     ]
    }
   ],
   "source": [
    "# Submit the job\n",
    "response = batch.submit_job(\n",
    "    jobName=job_name,\n",
    "    jobQueue=job_queue,\n",
    "    jobDefinition=job_definition,\n",
    "    parameters=event\n",
    ")\n",
    "\n",
    "# Print the job ID\n",
    "print('Submitted batch job:', response['jobId'])"
   ]
  }
 ],
 "metadata": {
  "kernelspec": {
   "display_name": "Python 3 (ipykernel)",
   "language": "python",
   "name": "python3"
  },
  "language_info": {
   "codemirror_mode": {
    "name": "ipython",
    "version": 3
   },
   "file_extension": ".py",
   "mimetype": "text/x-python",
   "name": "python",
   "nbconvert_exporter": "python",
   "pygments_lexer": "ipython3",
   "version": "3.10.6"
  }
 },
 "nbformat": 4,
 "nbformat_minor": 5
}
