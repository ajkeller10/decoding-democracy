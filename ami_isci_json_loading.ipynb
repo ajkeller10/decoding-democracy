{
 "cells": [
  {
   "cell_type": "markdown",
   "id": "09957723",
   "metadata": {},
   "source": [
    "AMI and ICSI Json Loads"
   ]
  },
  {
   "cell_type": "code",
   "execution_count": 1,
   "id": "15603d91",
   "metadata": {},
   "outputs": [],
   "source": [
    "import json\n",
    "import os"
   ]
  },
  {
   "cell_type": "markdown",
   "id": "d0c5f730",
   "metadata": {},
   "source": [
    "Find json paths and load into list"
   ]
  },
  {
   "cell_type": "code",
   "execution_count": 2,
   "id": "af46bed3",
   "metadata": {},
   "outputs": [
    {
     "name": "stdout",
     "output_type": "stream",
     "text": [
      "README.md                     environment.yml\r\n",
      "Untitled.ipynb                environment_op.yml\r\n",
      "\u001b[0m\u001b[01;34mami-and-icsi-corpora-master\u001b[0m/  solbiati_experiments.ipynb\r\n",
      "ami_isci_json_loading.ipynb   test_data_create.ipynb\r\n",
      "create_test_data.py           transcripts.pickle\r\n",
      "download_data.ipynb           \u001b[01;34munsupervised_topic_segmentation\u001b[0m/\r\n"
     ]
    }
   ],
   "source": [
    "%ls"
   ]
  },
  {
   "cell_type": "code",
   "execution_count": null,
   "id": "2e2fa5cb",
   "metadata": {},
   "outputs": [],
   "source": []
  },
  {
   "cell_type": "code",
   "execution_count": 10,
   "id": "13770747",
   "metadata": {},
   "outputs": [],
   "source": [
    "#not using icsi at the moment\n",
    "#icsi_path='ami-and-icsi-corpora-master/icsi-corpus/output/dialogueActs/\n",
    "\n",
    "#ami loading\n",
    "text_path='ami-and-icsi-corpora-master/ami-corpus/output/dialogueActs/'\n",
    "topic_path='ami-and-icsi-corpora-master/ami-corpus/output/topics/'\n",
    "\n",
    "text_jsons=[]\n",
    "topic_jsons=[]\n",
    "\n",
    "file_paths = os.listdir(topic_path)\n",
    "file_paths = list(filter(lambda x: x.endswith(\".json\"),file_paths))\n",
    "\n",
    "for file_path in file_paths:\n",
    "    #probably can comment out the text section because text is contained in topic \n",
    "    with open( text_path + file_path ) as file:\n",
    "        json_load = json.loads(file.read())\n",
    "    text_jsons.append(json_load)\n",
    "    \n",
    "    with open( topic_path + file_path ) as file:\n",
    "        json_load = json.loads(file.read())\n",
    "    topic_jsons.append(json_load)\n",
    "\n",
    "len(text_jsons)==len(topic_jsons)\n"
   ]
  },
  {
   "cell_type": "code",
   "execution_count": 25,
   "id": "190e8caf",
   "metadata": {},
   "outputs": [
    {
     "name": "stdout",
     "output_type": "stream",
     "text": [
      "{'inf', 'el.und', 'el.sug', 'bck', 'stl', 'ass', 'be.pos', 'el.inf', 'oth', 'off', 'und', 'el.ass', 'sug', 'fra'}\n",
      "{'A', 'B', 'D', 'C'}\n"
     ]
    }
   ],
   "source": [
    "text_jsons[0] #list where text is held in 'text'\n",
    "\n",
    "print(set([x['label'] for x in text_jsons[0]])) #set of labels\n",
    "print(set([x['speaker'] for x in text_jsons[0]])) #set of speakers"
   ]
  },
  {
   "cell_type": "markdown",
   "id": "dc890e59",
   "metadata": {},
   "source": [
    "Notice that the text has a lot of filler. For example: <vocalsound>, um, uh, mm-hmm, uh-uh, oh \n",
    "\n",
    "We can see that the sentence structure is different than our tesimony text. There are many shorter sentences. If we strip these utterances, there will be many empty sentences. Additionally, some utterances are interupted and others contain multiple sentences. \n",
    "    "
   ]
  },
  {
   "cell_type": "code",
   "execution_count": 23,
   "id": "94394c41",
   "metadata": {},
   "outputs": [],
   "source": [
    "text = [x['text'] for x in text_jsons[0]]\n",
    "text"
   ]
  },
  {
   "cell_type": "markdown",
   "id": "21a09f6f",
   "metadata": {},
   "source": [
    "Topics "
   ]
  },
  {
   "cell_type": "code",
   "execution_count": 36,
   "id": "c22209dd",
   "metadata": {},
   "outputs": [
    {
     "name": "stdout",
     "output_type": "stream",
     "text": [
      "dict_keys(['id', 'topic', 'description', 'dialogueacts', 'subtopics'])\n",
      "{'discussion', 'marketing expert presentation', 'closing', 'industrial designer presentation', 'interface specialist presentation', 'opening'}\n",
      "{'None'}\n"
     ]
    }
   ],
   "source": [
    "print(topic_jsons[0][0].keys())\n",
    "print(set([x['topic'] for x in topic_jsons[0]])) \n",
    "print(set([x['description'] for x in topic_jsons[0]])) \n"
   ]
  },
  {
   "cell_type": "code",
   "execution_count": null,
   "id": "85ce8436",
   "metadata": {},
   "outputs": [],
   "source": []
  },
  {
   "cell_type": "code",
   "execution_count": null,
   "id": "5bceaf95",
   "metadata": {},
   "outputs": [],
   "source": []
  }
 ],
 "metadata": {
  "kernelspec": {
   "display_name": "Python 3 (ipykernel)",
   "language": "python",
   "name": "python3"
  },
  "language_info": {
   "codemirror_mode": {
    "name": "ipython",
    "version": 3
   },
   "file_extension": ".py",
   "mimetype": "text/x-python",
   "name": "python",
   "nbconvert_exporter": "python",
   "pygments_lexer": "ipython3",
   "version": "3.10.6"
  }
 },
 "nbformat": 4,
 "nbformat_minor": 5
}
