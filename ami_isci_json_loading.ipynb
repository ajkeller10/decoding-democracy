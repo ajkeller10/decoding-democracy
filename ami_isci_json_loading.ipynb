{
 "cells": [
  {
   "attachments": {},
   "cell_type": "markdown",
   "id": "09957723",
   "metadata": {},
   "source": [
    "AMI and ICSI Json Loads"
   ]
  },
  {
   "cell_type": "code",
   "execution_count": 1,
   "id": "15603d91",
   "metadata": {},
   "outputs": [],
   "source": [
    "import json\n",
    "import os\n",
    "import pandas as pd\n",
    "import statistics\n",
    "import unsupervised_topic_segmentation.dataset as ds\n",
    "import create_test_data"
   ]
  },
  {
   "attachments": {},
   "cell_type": "markdown",
   "id": "d0c5f730",
   "metadata": {},
   "source": [
    "Find json paths and load into list"
   ]
  },
  {
   "cell_type": "code",
   "execution_count": 2,
   "id": "af46bed3",
   "metadata": {},
   "outputs": [
    {
     "name": "stdout",
     "output_type": "stream",
     "text": [
      "README.md                        environment_op.yml\n",
      "Untitled.ipynb                   \u001b[34micsi_dataset\u001b[m\u001b[m/\n",
      "\u001b[34m__pycache__\u001b[m\u001b[m/                     \u001b[34mparliamentary_dataset\u001b[m\u001b[m/\n",
      "\u001b[34mami-and-icsi-corpora-master\u001b[m\u001b[m/     solbiati_experiments.ipynb\n",
      "ami_isci_json_loading.ipynb      test_data_create.ipynb\n",
      "create_test_data.py              transcripts.pickle\n",
      "download_data.ipynb              \u001b[34munsupervised_topic_segmentation\u001b[m\u001b[m/\n",
      "environment.yml\n"
     ]
    }
   ],
   "source": [
    "%ls"
   ]
  },
  {
   "attachments": {},
   "cell_type": "markdown",
   "id": "c58a811d",
   "metadata": {},
   "source": [
    "# ICSI\n",
    "Not using icsi at the moment"
   ]
  },
  {
   "cell_type": "code",
   "execution_count": 3,
   "id": "20a95458",
   "metadata": {},
   "outputs": [
    {
     "name": "stdout",
     "output_type": "stream",
     "text": [
      "75\n"
     ]
    }
   ],
   "source": [
    "#not using icsi at the moment\n",
    "icsi_path='ami-and-icsi-corpora-master/icsi-corpus/output/dialogueActs/'\n",
    "\n",
    "text_jsons_isci=[]\n",
    "\n",
    "file_paths = os.listdir(icsi_path)\n",
    "file_paths = list(filter(lambda x: x.endswith(\".json\"),file_paths))\n",
    "\n",
    "for file_path in file_paths:\n",
    "    #probably can comment out the text section because text is contained in topic \n",
    "    with open( icsi_path + file_path ) as file:\n",
    "        json_load = json.loads(file.read())\n",
    "    text_jsons_isci.append(json_load)\n",
    "    \n",
    "print(len(text_jsons_isci))\n"
   ]
  },
  {
   "cell_type": "code",
   "execution_count": 4,
   "id": "fe447c25",
   "metadata": {},
   "outputs": [
    {
     "data": {
      "text/plain": [
       "1454"
      ]
     },
     "execution_count": 4,
     "metadata": {},
     "output_type": "execute_result"
    }
   ],
   "source": [
    "text_lengths_isci=[len(x) for x in text_jsons_isci]\n",
    "statistics.median(text_lengths_isci)"
   ]
  },
  {
   "attachments": {},
   "cell_type": "markdown",
   "id": "3367baa6",
   "metadata": {},
   "source": [
    "isci has fewer transcripts (75 versus 136), but might be better for our purposes because transcripts are longer (1454 utterances precleaning, rather than 251 in ami postcleaning), "
   ]
  },
  {
   "attachments": {},
   "cell_type": "markdown",
   "id": "5c7b13e1",
   "metadata": {},
   "source": [
    "# AMI\n",
    "Using AMI instead"
   ]
  },
  {
   "cell_type": "code",
   "execution_count": 5,
   "id": "13770747",
   "metadata": {},
   "outputs": [
    {
     "ename": "FileNotFoundError",
     "evalue": "[Errno 2] No such file or directory: 'ami-and-icsi-corpora-master/ami-corpus/output/topics/'",
     "output_type": "error",
     "traceback": [
      "\u001b[0;31m---------------------------------------------------------------------------\u001b[0m",
      "\u001b[0;31mFileNotFoundError\u001b[0m                         Traceback (most recent call last)",
      "Cell \u001b[0;32mIn[5], line 8\u001b[0m\n\u001b[1;32m      5\u001b[0m text_jsons\u001b[39m=\u001b[39m[]\n\u001b[1;32m      6\u001b[0m topic_jsons\u001b[39m=\u001b[39m[]\n\u001b[0;32m----> 8\u001b[0m file_paths \u001b[39m=\u001b[39m os\u001b[39m.\u001b[39;49mlistdir(topic_path)\n\u001b[1;32m      9\u001b[0m file_paths \u001b[39m=\u001b[39m \u001b[39mlist\u001b[39m(\u001b[39mfilter\u001b[39m(\u001b[39mlambda\u001b[39;00m x: x\u001b[39m.\u001b[39mendswith(\u001b[39m\"\u001b[39m\u001b[39m.json\u001b[39m\u001b[39m\"\u001b[39m),file_paths))\n\u001b[1;32m     11\u001b[0m \u001b[39mfor\u001b[39;00m file_path \u001b[39min\u001b[39;00m file_paths:\n\u001b[1;32m     12\u001b[0m     \u001b[39m#probably can comment out the text section because text is contained in topic \u001b[39;00m\n",
      "\u001b[0;31mFileNotFoundError\u001b[0m: [Errno 2] No such file or directory: 'ami-and-icsi-corpora-master/ami-corpus/output/topics/'"
     ]
    }
   ],
   "source": [
    "#ami loading\n",
    "text_path='ami-and-icsi-corpora-master/ami-corpus/output/dialogueActs/'\n",
    "topic_path='ami-and-icsi-corpora-master/ami-corpus/output/topics/'\n",
    "\n",
    "text_jsons=[]\n",
    "topic_jsons=[]\n",
    "\n",
    "file_paths = os.listdir(topic_path)\n",
    "file_paths = list(filter(lambda x: x.endswith(\".json\"),file_paths))\n",
    "\n",
    "for file_path in file_paths:\n",
    "    #probably can comment out the text section because text is contained in topic \n",
    "    with open( text_path + file_path ) as file:\n",
    "        json_load = json.loads(file.read())\n",
    "    text_jsons.append(json_load)\n",
    "    \n",
    "    with open( topic_path + file_path ) as file:\n",
    "        json_load = json.loads(file.read())\n",
    "    topic_jsons.append(json_load)\n",
    "\n",
    "print(len(text_jsons)==len(topic_jsons))\n",
    "len(topic_jsons)\n"
   ]
  },
  {
   "attachments": {},
   "cell_type": "markdown",
   "id": "e9b4b77f",
   "metadata": {},
   "source": [
    "# Viewing AMI"
   ]
  },
  {
   "cell_type": "code",
   "execution_count": 6,
   "id": "190e8caf",
   "metadata": {},
   "outputs": [
    {
     "name": "stdout",
     "output_type": "stream",
     "text": [
      "{'bck', 'und', 'be.pos', 'el.sug', 'off', 'el.inf', 'sug', 'oth', 'el.ass', 'el.und', 'fra', 'inf', 'stl', 'ass'}\n",
      "{'C', 'A', 'B', 'D'}\n"
     ]
    }
   ],
   "source": [
    "text_jsons[0] #list where text is held in 'text'\n",
    "\n",
    "print(set([x['label'] for x in text_jsons[0]])) #set of labels\n",
    "print(set([x['speaker'] for x in text_jsons[0]])) #set of speakers"
   ]
  },
  {
   "attachments": {},
   "cell_type": "markdown",
   "id": "dc890e59",
   "metadata": {},
   "source": [
    "Notice that the text has a lot of filler. For example: <vocalsound>, um, uh, mm-hmm, uh-uh, oh \n",
    "\n",
    "We can see that the sentence structure is different than our council text. There are many shorter sentences, some utterances are interupted and others contain multiple sentences. \n",
    "    "
   ]
  },
  {
   "cell_type": "code",
   "execution_count": 7,
   "id": "94394c41",
   "metadata": {},
   "outputs": [
    {
     "data": {
      "text/plain": [
       "(334, 2)"
      ]
     },
     "execution_count": 7,
     "metadata": {},
     "output_type": "execute_result"
    }
   ],
   "source": [
    "text = [x['text'] for x in text_jsons[0]]\n",
    "text_clean = ds.preprocessing(pd.DataFrame({'sentences':text}),'sentences')\n",
    "text_clean.shape #previously 410,2"
   ]
  },
  {
   "attachments": {},
   "cell_type": "markdown",
   "id": "21a09f6f",
   "metadata": {},
   "source": [
    "Topics "
   ]
  },
  {
   "cell_type": "code",
   "execution_count": 8,
   "id": "c22209dd",
   "metadata": {},
   "outputs": [
    {
     "name": "stdout",
     "output_type": "stream",
     "text": [
      "dict_keys(['id', 'topic', 'description', 'dialogueacts', 'subtopics'])\n",
      "{'closing', 'opening', 'interface specialist presentation', 'industrial designer presentation', 'discussion', 'marketing expert presentation'}\n"
     ]
    }
   ],
   "source": [
    "print(topic_jsons[0][0].keys())\n",
    "print(set([x['topic'] for x in topic_jsons[0]])) \n"
   ]
  },
  {
   "attachments": {},
   "cell_type": "markdown",
   "id": "bfcdeac2",
   "metadata": {},
   "source": [
    "# Clean AMI\n",
    "\n",
    "This code takes 3.7 seconds to run. Make sure not to delete the .copy()"
   ]
  },
  {
   "cell_type": "code",
   "execution_count": 9,
   "id": "418e7c5c",
   "metadata": {},
   "outputs": [
    {
     "data": {
      "text/html": [
       "<div>\n",
       "<style scoped>\n",
       "    .dataframe tbody tr th:only-of-type {\n",
       "        vertical-align: middle;\n",
       "    }\n",
       "\n",
       "    .dataframe tbody tr th {\n",
       "        vertical-align: top;\n",
       "    }\n",
       "\n",
       "    .dataframe thead th {\n",
       "        text-align: right;\n",
       "    }\n",
       "</style>\n",
       "<table border=\"1\" class=\"dataframe\">\n",
       "  <thead>\n",
       "    <tr style=\"text-align: right;\">\n",
       "      <th></th>\n",
       "      <th>index</th>\n",
       "      <th>sentences</th>\n",
       "      <th>topic_count</th>\n",
       "      <th>topic_desc</th>\n",
       "      <th>has_topic_desc</th>\n",
       "    </tr>\n",
       "  </thead>\n",
       "  <tbody>\n",
       "    <tr>\n",
       "      <th>0</th>\n",
       "      <td>2</td>\n",
       "      <td>This is our first team meeting</td>\n",
       "      <td>0</td>\n",
       "      <td>None</td>\n",
       "      <td>False</td>\n",
       "    </tr>\n",
       "    <tr>\n",
       "      <th>1</th>\n",
       "      <td>3</td>\n",
       "      <td>I'll be your Project Manager for today , for t...</td>\n",
       "      <td>0</td>\n",
       "      <td>None</td>\n",
       "      <td>False</td>\n",
       "    </tr>\n",
       "    <tr>\n",
       "      <th>2</th>\n",
       "      <td>5</td>\n",
       "      <td>will be giving this presentation for you to k...</td>\n",
       "      <td>0</td>\n",
       "      <td>None</td>\n",
       "      <td>False</td>\n",
       "    </tr>\n",
       "    <tr>\n",
       "      <th>3</th>\n",
       "      <td>7</td>\n",
       "      <td>that's the agenda for today</td>\n",
       "      <td>0</td>\n",
       "      <td>None</td>\n",
       "      <td>False</td>\n",
       "    </tr>\n",
       "    <tr>\n",
       "      <th>4</th>\n",
       "      <td>9</td>\n",
       "      <td>of course we're new to each other ,</td>\n",
       "      <td>0</td>\n",
       "      <td>None</td>\n",
       "      <td>False</td>\n",
       "    </tr>\n",
       "    <tr>\n",
       "      <th>...</th>\n",
       "      <td>...</td>\n",
       "      <td>...</td>\n",
       "      <td>...</td>\n",
       "      <td>...</td>\n",
       "      <td>...</td>\n",
       "    </tr>\n",
       "    <tr>\n",
       "      <th>187</th>\n",
       "      <td>1</td>\n",
       "      <td>the the personal coach will give you the your ...</td>\n",
       "      <td>3</td>\n",
       "      <td>None</td>\n",
       "      <td>False</td>\n",
       "    </tr>\n",
       "    <tr>\n",
       "      <th>188</th>\n",
       "      <td>2</td>\n",
       "      <td>So we'll just meet back in here thirty minutes</td>\n",
       "      <td>3</td>\n",
       "      <td>None</td>\n",
       "      <td>False</td>\n",
       "    </tr>\n",
       "    <tr>\n",
       "      <th>189</th>\n",
       "      <td>3</td>\n",
       "      <td>I'm sure we have that</td>\n",
       "      <td>3</td>\n",
       "      <td>None</td>\n",
       "      <td>False</td>\n",
       "    </tr>\n",
       "    <tr>\n",
       "      <th>190</th>\n",
       "      <td>9</td>\n",
       "      <td>thanks for attending</td>\n",
       "      <td>3</td>\n",
       "      <td>None</td>\n",
       "      <td>False</td>\n",
       "    </tr>\n",
       "    <tr>\n",
       "      <th>191</th>\n",
       "      <td>10</td>\n",
       "      <td>I'll see you back here in thirty minutes</td>\n",
       "      <td>3</td>\n",
       "      <td>None</td>\n",
       "      <td>False</td>\n",
       "    </tr>\n",
       "  </tbody>\n",
       "</table>\n",
       "<p>192 rows × 5 columns</p>\n",
       "</div>"
      ],
      "text/plain": [
       "     index                                          sentences  topic_count  \\\n",
       "0        2                    This is our first team meeting             0   \n",
       "1        3  I'll be your Project Manager for today , for t...            0   \n",
       "2        5   will be giving this presentation for you to k...            0   \n",
       "3        7                       that's the agenda for today             0   \n",
       "4        9                of course we're new to each other ,            0   \n",
       "..     ...                                                ...          ...   \n",
       "187      1  the the personal coach will give you the your ...            3   \n",
       "188      2    So we'll just meet back in here thirty minutes             3   \n",
       "189      3                             I'm sure we have that             3   \n",
       "190      9                              thanks for attending             3   \n",
       "191     10          I'll see you back here in thirty minutes             3   \n",
       "\n",
       "    topic_desc  has_topic_desc  \n",
       "0         None           False  \n",
       "1         None           False  \n",
       "2         None           False  \n",
       "3         None           False  \n",
       "4         None           False  \n",
       "..         ...             ...  \n",
       "187       None           False  \n",
       "188       None           False  \n",
       "189       None           False  \n",
       "190       None           False  \n",
       "191       None           False  \n",
       "\n",
       "[192 rows x 5 columns]"
      ]
     },
     "execution_count": 9,
     "metadata": {},
     "output_type": "execute_result"
    }
   ],
   "source": [
    "transcripts=[]\n",
    "text_lengths=[]\n",
    "topic_lengths=[] #can remove later\n",
    "FILLERS=[\"um\", \"uh\", \"oh\", \"hmm\", \"mm-hmm\", \"uh-uh\", \"you know\"]\n",
    "\n",
    "for topic_json in topic_jsons:\n",
    "\n",
    "    df_temp=pd.DataFrame()\n",
    "    has_topic_desc=len(set([x['topic'] for x in topic_json]))>1\n",
    "\n",
    "    for index, topic in enumerate(topic_json): \n",
    "        text = [x['text'] for x in topic['dialogueacts']]\n",
    "        if df_temp.empty:\n",
    "            df_temp=pd.DataFrame({'sentences':text,'topic_count':index,'topic_desc':topic['topic'],'has_topic_desc':has_topic_desc})\n",
    "        else:\n",
    "            df_temp=pd.concat([df_temp,pd.DataFrame({'sentences':text,'topic_count':index,'topic_desc':topic['topic'],'has_topic_desc':has_topic_desc})])    \n",
    "\n",
    "    df_clean=ds.preprocessing(df_temp,'sentences',FILLERS.copy(),min_caption_len=20)\n",
    "    \n",
    "    text_lengths.append(len(df_clean))\n",
    "    topic_lengths.append(df_clean.groupby(['topic_count']).size().mean())\n",
    "    transcripts.append(df_clean)\n",
    "    \n",
    "df_clean"
   ]
  },
  {
   "attachments": {},
   "cell_type": "markdown",
   "id": "7a9bc093",
   "metadata": {},
   "source": [
    "calculate average topic length"
   ]
  },
  {
   "cell_type": "code",
   "execution_count": 10,
   "id": "572643ea",
   "metadata": {},
   "outputs": [
    {
     "data": {
      "text/plain": [
       "216.28676470588235"
      ]
     },
     "execution_count": 10,
     "metadata": {},
     "output_type": "execute_result"
    }
   ],
   "source": [
    "sum(text_lengths)/len(text_lengths) #this will be an issue because our texts are longer in our city council transcripts"
   ]
  },
  {
   "cell_type": "code",
   "execution_count": 11,
   "id": "eee8a3ae",
   "metadata": {},
   "outputs": [
    {
     "data": {
      "text/plain": [
       "24.944444444444443"
      ]
     },
     "execution_count": 11,
     "metadata": {},
     "output_type": "execute_result"
    }
   ],
   "source": [
    "import statistics\n",
    "statistics.median(topic_lengths) #this is median of averages, not total average"
   ]
  },
  {
   "attachments": {},
   "cell_type": "markdown",
   "id": "4ab9279b",
   "metadata": {},
   "source": [
    "## Make AMI Transcripts match Council Data format"
   ]
  },
  {
   "cell_type": "code",
   "execution_count": 12,
   "id": "72c5ec2e",
   "metadata": {},
   "outputs": [],
   "source": [
    "ami_ids=[\"AMI_\"+str(x) for x in range(len(transcripts))]\n",
    "sentences=[list(x['sentences']) for x in transcripts]\n",
    "topic_counts=[list(x['topic_count']) for x in transcripts]"
   ]
  },
  {
   "cell_type": "code",
   "execution_count": 13,
   "id": "a16f17e1",
   "metadata": {},
   "outputs": [
    {
     "data": {
      "text/html": [
       "<div>\n",
       "<style scoped>\n",
       "    .dataframe tbody tr th:only-of-type {\n",
       "        vertical-align: middle;\n",
       "    }\n",
       "\n",
       "    .dataframe tbody tr th {\n",
       "        vertical-align: top;\n",
       "    }\n",
       "\n",
       "    .dataframe thead th {\n",
       "        text-align: right;\n",
       "    }\n",
       "</style>\n",
       "<table border=\"1\" class=\"dataframe\">\n",
       "  <thead>\n",
       "    <tr style=\"text-align: right;\">\n",
       "      <th></th>\n",
       "      <th>transcript_id</th>\n",
       "      <th>sentences</th>\n",
       "    </tr>\n",
       "  </thead>\n",
       "  <tbody>\n",
       "    <tr>\n",
       "      <th>0</th>\n",
       "      <td>d0a7e5864959</td>\n",
       "      <td>[And older woman Jocasta Zamarripa., Shortly, ...</td>\n",
       "    </tr>\n",
       "    <tr>\n",
       "      <th>1</th>\n",
       "      <td>e9a7a8ac9081</td>\n",
       "      <td>[Meeting., My name is Cavalier Johnson., I'm c...</td>\n",
       "    </tr>\n",
       "    <tr>\n",
       "      <th>2</th>\n",
       "      <td>694b0e5b01a7</td>\n",
       "      <td>[Joining you this morning is Vice Chair Alderm...</td>\n",
       "    </tr>\n",
       "    <tr>\n",
       "      <th>3</th>\n",
       "      <td>ad734a167e5a</td>\n",
       "      <td>[Our first meeting of 2020, the Judiciary and ...</td>\n",
       "    </tr>\n",
       "    <tr>\n",
       "      <th>4</th>\n",
       "      <td>fe845b99f32e</td>\n",
       "      <td>[Alderman Hamilton., Here., Kovach., Here., Ba...</td>\n",
       "    </tr>\n",
       "    <tr>\n",
       "      <th>...</th>\n",
       "      <td>...</td>\n",
       "      <td>...</td>\n",
       "    </tr>\n",
       "    <tr>\n",
       "      <th>407</th>\n",
       "      <td>468bb3242311</td>\n",
       "      <td>[Commission for Tuesday September 1st 2020 at ...</td>\n",
       "    </tr>\n",
       "    <tr>\n",
       "      <th>408</th>\n",
       "      <td>16327f867c7e</td>\n",
       "      <td>[Our 2021 meeting of the Fire and Police Commi...</td>\n",
       "    </tr>\n",
       "    <tr>\n",
       "      <th>409</th>\n",
       "      <td>ea6416ba848c</td>\n",
       "      <td>[Thank you, Mr. President., You know, my colle...</td>\n",
       "    </tr>\n",
       "    <tr>\n",
       "      <th>410</th>\n",
       "      <td>d32da631854f</td>\n",
       "      <td>[This meeting will come to order, this council...</td>\n",
       "    </tr>\n",
       "    <tr>\n",
       "      <th>411</th>\n",
       "      <td>aeb4ca3154ba</td>\n",
       "      <td>[Sally Peltz?, Here., Nicholas Hans Robinson?,...</td>\n",
       "    </tr>\n",
       "  </tbody>\n",
       "</table>\n",
       "<p>412 rows × 2 columns</p>\n",
       "</div>"
      ],
      "text/plain": [
       "    transcript_id                                          sentences\n",
       "0    d0a7e5864959  [And older woman Jocasta Zamarripa., Shortly, ...\n",
       "1    e9a7a8ac9081  [Meeting., My name is Cavalier Johnson., I'm c...\n",
       "2    694b0e5b01a7  [Joining you this morning is Vice Chair Alderm...\n",
       "3    ad734a167e5a  [Our first meeting of 2020, the Judiciary and ...\n",
       "4    fe845b99f32e  [Alderman Hamilton., Here., Kovach., Here., Ba...\n",
       "..            ...                                                ...\n",
       "407  468bb3242311  [Commission for Tuesday September 1st 2020 at ...\n",
       "408  16327f867c7e  [Our 2021 meeting of the Fire and Police Commi...\n",
       "409  ea6416ba848c  [Thank you, Mr. President., You know, my colle...\n",
       "410  d32da631854f  [This meeting will come to order, this council...\n",
       "411  aeb4ca3154ba  [Sally Peltz?, Here., Nicholas Hans Robinson?,...\n",
       "\n",
       "[412 rows x 2 columns]"
      ]
     },
     "execution_count": 13,
     "metadata": {},
     "output_type": "execute_result"
    }
   ],
   "source": [
    "t_cd = create_test_data.transcript_pickle_to_pd()\n",
    "t_ami = pd.DataFrame({'transcript_id':ami_ids,\n",
    "    'sentences':sentences,\n",
    "    'topic_counts':topic_counts,\n",
    "    'length':text_lengths,\n",
    "    'avg_topic_length':topic_lengths\n",
    "    })\n",
    "\n",
    "t_cd"
   ]
  },
  {
   "cell_type": "code",
   "execution_count": 14,
   "id": "9c4e2f28",
   "metadata": {},
   "outputs": [
    {
     "data": {
      "text/html": [
       "<div>\n",
       "<style scoped>\n",
       "    .dataframe tbody tr th:only-of-type {\n",
       "        vertical-align: middle;\n",
       "    }\n",
       "\n",
       "    .dataframe tbody tr th {\n",
       "        vertical-align: top;\n",
       "    }\n",
       "\n",
       "    .dataframe thead th {\n",
       "        text-align: right;\n",
       "    }\n",
       "</style>\n",
       "<table border=\"1\" class=\"dataframe\">\n",
       "  <thead>\n",
       "    <tr style=\"text-align: right;\">\n",
       "      <th></th>\n",
       "      <th>transcript_id</th>\n",
       "      <th>sentences</th>\n",
       "      <th>topic_counts</th>\n",
       "      <th>length</th>\n",
       "      <th>avg_topic_length</th>\n",
       "    </tr>\n",
       "  </thead>\n",
       "  <tbody>\n",
       "    <tr>\n",
       "      <th>0</th>\n",
       "      <td>AMI_0</td>\n",
       "      <td>[Now I have my screen back too ,   we have pre...</td>\n",
       "      <td>[0, 0, 0, 1, 1, 1, 1, 1, 1, 1, 1, 1, 1, 1, 1, ...</td>\n",
       "      <td>230</td>\n",
       "      <td>38.333333</td>\n",
       "    </tr>\n",
       "    <tr>\n",
       "      <th>1</th>\n",
       "      <td>AMI_1</td>\n",
       "      <td>[This is our third meeting already , I hope yo...</td>\n",
       "      <td>[0, 0, 0, 0, 0, 0, 0, 0, 0, 0, 0, 0, 0, 0, 0, ...</td>\n",
       "      <td>78</td>\n",
       "      <td>11.142857</td>\n",
       "    </tr>\n",
       "    <tr>\n",
       "      <th>2</th>\n",
       "      <td>AMI_2</td>\n",
       "      <td>[Everybody found his place again ? Yeah ?, thi...</td>\n",
       "      <td>[0, 0, 0, 0, 0, 0, 0, 0, 0, 0, 0, 0, 0, 0, 0, ...</td>\n",
       "      <td>90</td>\n",
       "      <td>12.857143</td>\n",
       "    </tr>\n",
       "    <tr>\n",
       "      <th>3</th>\n",
       "      <td>AMI_3</td>\n",
       "      <td>[Good morning everybody ,  I'm glad you could ...</td>\n",
       "      <td>[1, 1, 1, 1, 1, 1, 1, 1, 1, 1, 1, 1, 2, 2, 2, ...</td>\n",
       "      <td>135</td>\n",
       "      <td>16.875000</td>\n",
       "    </tr>\n",
       "    <tr>\n",
       "      <th>4</th>\n",
       "      <td>AMI_4</td>\n",
       "      <td>[English from now on  , Where are are all the ...</td>\n",
       "      <td>[0, 1, 1, 1, 1, 1, 1, 1, 1, 1, 1, 1, 1, 1, 1, ...</td>\n",
       "      <td>251</td>\n",
       "      <td>22.818182</td>\n",
       "    </tr>\n",
       "    <tr>\n",
       "      <th>...</th>\n",
       "      <td>...</td>\n",
       "      <td>...</td>\n",
       "      <td>...</td>\n",
       "      <td>...</td>\n",
       "      <td>...</td>\n",
       "    </tr>\n",
       "    <tr>\n",
       "      <th>131</th>\n",
       "      <td>AMI_131</td>\n",
       "      <td>[start of the first meeting , Right , so agend...</td>\n",
       "      <td>[0, 0, 0, 0, 0, 1, 1, 1, 1, 1, 1, 2, 2, 2, 2, ...</td>\n",
       "      <td>180</td>\n",
       "      <td>20.000000</td>\n",
       "    </tr>\n",
       "    <tr>\n",
       "      <th>132</th>\n",
       "      <td>AMI_132</td>\n",
       "      <td>[I wanna find our if our remote works ,   here...</td>\n",
       "      <td>[0, 0, 0, 0, 0, 0, 0, 1, 1, 1, 1, 1, 1, 2, 2, ...</td>\n",
       "      <td>232</td>\n",
       "      <td>38.666667</td>\n",
       "    </tr>\n",
       "    <tr>\n",
       "      <th>133</th>\n",
       "      <td>AMI_133</td>\n",
       "      <td>[So do we need to re-train Mike on how to put ...</td>\n",
       "      <td>[0, 0, 0, 0, 0, 0, 0, 0, 1, 1, 1, 1, 1, 1, 1, ...</td>\n",
       "      <td>84</td>\n",
       "      <td>12.000000</td>\n",
       "    </tr>\n",
       "    <tr>\n",
       "      <th>134</th>\n",
       "      <td>AMI_134</td>\n",
       "      <td>[That's as far as it goes  ,  good morning eve...</td>\n",
       "      <td>[0, 0, 0, 0, 0, 0, 0, 0, 0, 0, 0, 0, 0, 0, 0, ...</td>\n",
       "      <td>152</td>\n",
       "      <td>38.000000</td>\n",
       "    </tr>\n",
       "    <tr>\n",
       "      <th>135</th>\n",
       "      <td>AMI_135</td>\n",
       "      <td>[This is our first team meeting , I'll be your...</td>\n",
       "      <td>[0, 0, 0, 0, 0, 0, 0, 0, 0, 0, 0, 0, 0, 0, 0, ...</td>\n",
       "      <td>192</td>\n",
       "      <td>48.000000</td>\n",
       "    </tr>\n",
       "  </tbody>\n",
       "</table>\n",
       "<p>136 rows × 5 columns</p>\n",
       "</div>"
      ],
      "text/plain": [
       "    transcript_id                                          sentences  \\\n",
       "0           AMI_0  [Now I have my screen back too ,   we have pre...   \n",
       "1           AMI_1  [This is our third meeting already , I hope yo...   \n",
       "2           AMI_2  [Everybody found his place again ? Yeah ?, thi...   \n",
       "3           AMI_3  [Good morning everybody ,  I'm glad you could ...   \n",
       "4           AMI_4  [English from now on  , Where are are all the ...   \n",
       "..            ...                                                ...   \n",
       "131       AMI_131  [start of the first meeting , Right , so agend...   \n",
       "132       AMI_132  [I wanna find our if our remote works ,   here...   \n",
       "133       AMI_133  [So do we need to re-train Mike on how to put ...   \n",
       "134       AMI_134  [That's as far as it goes  ,  good morning eve...   \n",
       "135       AMI_135  [This is our first team meeting , I'll be your...   \n",
       "\n",
       "                                          topic_counts  length  \\\n",
       "0    [0, 0, 0, 1, 1, 1, 1, 1, 1, 1, 1, 1, 1, 1, 1, ...     230   \n",
       "1    [0, 0, 0, 0, 0, 0, 0, 0, 0, 0, 0, 0, 0, 0, 0, ...      78   \n",
       "2    [0, 0, 0, 0, 0, 0, 0, 0, 0, 0, 0, 0, 0, 0, 0, ...      90   \n",
       "3    [1, 1, 1, 1, 1, 1, 1, 1, 1, 1, 1, 1, 2, 2, 2, ...     135   \n",
       "4    [0, 1, 1, 1, 1, 1, 1, 1, 1, 1, 1, 1, 1, 1, 1, ...     251   \n",
       "..                                                 ...     ...   \n",
       "131  [0, 0, 0, 0, 0, 1, 1, 1, 1, 1, 1, 2, 2, 2, 2, ...     180   \n",
       "132  [0, 0, 0, 0, 0, 0, 0, 1, 1, 1, 1, 1, 1, 2, 2, ...     232   \n",
       "133  [0, 0, 0, 0, 0, 0, 0, 0, 1, 1, 1, 1, 1, 1, 1, ...      84   \n",
       "134  [0, 0, 0, 0, 0, 0, 0, 0, 0, 0, 0, 0, 0, 0, 0, ...     152   \n",
       "135  [0, 0, 0, 0, 0, 0, 0, 0, 0, 0, 0, 0, 0, 0, 0, ...     192   \n",
       "\n",
       "     avg_topic_length  \n",
       "0           38.333333  \n",
       "1           11.142857  \n",
       "2           12.857143  \n",
       "3           16.875000  \n",
       "4           22.818182  \n",
       "..                ...  \n",
       "131         20.000000  \n",
       "132         38.666667  \n",
       "133         12.000000  \n",
       "134         38.000000  \n",
       "135         48.000000  \n",
       "\n",
       "[136 rows x 5 columns]"
      ]
     },
     "execution_count": 14,
     "metadata": {},
     "output_type": "execute_result"
    }
   ],
   "source": [
    "t_ami"
   ]
  },
  {
   "cell_type": "code",
   "execution_count": 15,
   "id": "5bceaf95",
   "metadata": {},
   "outputs": [],
   "source": [
    "hold=create_test_data.generate_segment(t_ami, doc_count_limit = 5, sentence_min = 20, supervised = True)  "
   ]
  },
  {
   "cell_type": "code",
   "execution_count": 19,
   "id": "249d5586",
   "metadata": {},
   "outputs": [
    {
     "name": "stdout",
     "output_type": "stream",
     "text": [
      "4\n",
      "{0, 1, 1003, 1004, 1005, 2001, 2002, 3002, 3003, 3004, 3005, 3006}\n"
     ]
    }
   ],
   "source": [
    "print(hold[3])\n",
    "print(set(hold[2]))"
   ]
  }
 ],
 "metadata": {
  "kernelspec": {
   "display_name": "Python 3 (ipykernel)",
   "language": "python",
   "name": "python3"
  },
  "language_info": {
   "codemirror_mode": {
    "name": "ipython",
    "version": 3
   },
   "file_extension": ".py",
   "mimetype": "text/x-python",
   "name": "python",
   "nbconvert_exporter": "python",
   "pygments_lexer": "ipython3",
   "version": "3.10.11"
  }
 },
 "nbformat": 4,
 "nbformat_minor": 5
}
