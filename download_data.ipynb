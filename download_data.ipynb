{
 "cells": [
  {
   "cell_type": "code",
   "execution_count": 67,
   "metadata": {},
   "outputs": [],
   "source": [
    "from cdp_backend.database import models as db_models\n",
    "from cdp_backend.pipeline.transcript_model import Transcript\n",
    "import fireo\n",
    "from gcsfs import GCSFileSystem\n",
    "from google.auth.credentials import AnonymousCredentials\n",
    "from google.cloud.firestore import Client\n",
    "\n",
    "import pickle"
   ]
  },
  {
   "cell_type": "code",
   "execution_count": 2,
   "metadata": {},
   "outputs": [],
   "source": [
    "# Connect to the database\n",
    "fireo.connection(client=Client(\n",
    "    project=\"cdp-milwaukee-9f60e352\",\n",
    "    credentials=AnonymousCredentials()\n",
    "))\n",
    "\n",
    "# Connect to the file store\n",
    "fs = GCSFileSystem(project=\"cdp-milwaukee-9f60e352\", token=\"anon\")"
   ]
  },
  {
   "cell_type": "code",
   "execution_count": 59,
   "metadata": {},
   "outputs": [
    {
     "data": {
      "text/plain": [
       "417"
      ]
     },
     "execution_count": 59,
     "metadata": {},
     "output_type": "execute_result"
    }
   ],
   "source": [
    "# get all transcripts\n",
    "all_transcripts = list(db_models.Transcript.collection.fetch(0))\n",
    "len(all_transcripts)"
   ]
  },
  {
   "cell_type": "code",
   "execution_count": 65,
   "metadata": {},
   "outputs": [],
   "source": [
    "# sentences for all transcripts - runs in ~6 min on home wifi\n",
    "transcripts = dict()\n",
    "for transcript in all_transcripts:\n",
    "    with fs.open(transcript.file_ref.get().uri, \"r\") as open_resource:\n",
    "        transcripts[transcript.session_ref.get().id] = [\n",
    "            sentence.text for sentence in Transcript.from_json(open_resource.read()).sentences]"
   ]
  },
  {
   "cell_type": "code",
   "execution_count": 69,
   "metadata": {},
   "outputs": [],
   "source": [
    "with open(\"transcripts.pickle\", \"wb\") as open_resource:\n",
    "    pickle.dump(transcripts, open_resource)"
   ]
  },
  {
   "cell_type": "code",
   "execution_count": null,
   "metadata": {},
   "outputs": [
    {
     "name": "stdout",
     "output_type": "stream",
     "text": [
      "Number of transcripts: 412\n",
      "Number of sentencess: 328733\n",
      "Number of words: 4843941\n"
     ]
    }
   ],
   "source": [
    "print(f\"Number of transcripts: {len(transcripts)}\")\n",
    "print(f\"Number of sentences: {sum([len(sentences) for sentences in transcripts.values()])}\")\n",
    "print(f\"Number of words: {sum([sum([len(sentence.split()) for sentence in sentences]) for sentences in transcripts.values()])}\")"
   ]
  }
 ],
 "metadata": {
  "kernelspec": {
   "display_name": "stats",
   "language": "python",
   "name": "python3"
  },
  "language_info": {
   "codemirror_mode": {
    "name": "ipython",
    "version": 3
   },
   "file_extension": ".py",
   "mimetype": "text/x-python",
   "name": "python",
   "nbconvert_exporter": "python",
   "pygments_lexer": "ipython3",
   "version": "3.10.11"
  },
  "orig_nbformat": 4
 },
 "nbformat": 4,
 "nbformat_minor": 2
}
